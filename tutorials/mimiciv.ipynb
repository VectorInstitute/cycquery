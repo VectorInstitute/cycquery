{
 "cells": [
  {
   "cell_type": "markdown",
   "id": "e337389b-1cfe-4796-a846-b4e1ba5690d6",
   "metadata": {},
   "source": [
    "# MIMIC-IV tutorial"
   ]
  },
  {
   "cell_type": "markdown",
   "id": "1efffc64",
   "metadata": {},
   "source": [
    "This notebook shows examples of how to use the cycquery tool on [MIMIC-IV v2.0](https://physionet.org/content/mimiciv/2.0/).\n",
    "\n",
    "Each query is limit to 100 rows (for quick results).\n",
    "\n",
    "* First, setup the MIMIC-IV database according to the instructions in [mimic-code](https://github.com/MIT-LCP/mimic-code/tree/main/mimic-iv/buildmimic/postgres).\n",
    "* The database is assumed to be hosted using postgres. Update the config parameters such as username and password, passed to `MIMICIVQuerier` accordingly."
   ]
  },
  {
   "cell_type": "markdown",
   "id": "12c18656-7f16-4230-85d0-944563d6a13e",
   "metadata": {},
   "source": [
    "## Imports and instantiate `MIMICIVQuerier`"
   ]
  },
  {
   "cell_type": "code",
   "execution_count": 1,
   "id": "53009e6b",
   "metadata": {
    "execution": {
     "iopub.execute_input": "2024-07-23T13:31:08.751738Z",
     "iopub.status.busy": "2024-07-23T13:31:08.750651Z",
     "iopub.status.idle": "2024-07-23T13:31:18.650272Z",
     "shell.execute_reply": "2024-07-23T13:31:18.648399Z"
    },
    "tags": []
   },
   "outputs": [
    {
     "name": "stderr",
     "output_type": "stream",
     "text": [
      "2024-07-23 09:31:16,273 \u001b[1;37mINFO\u001b[0m cycquery.orm    - Database setup, ready to run queries!\n"
     ]
    },
    {
     "data": {
      "text/plain": [
       "['fhir_etl',\n",
       " 'fhir_trm',\n",
       " 'information_schema',\n",
       " 'mimic_fhir',\n",
       " 'mimiciv_derived',\n",
       " 'mimiciv_ed',\n",
       " 'mimiciv_hosp',\n",
       " 'mimiciv_icu',\n",
       " 'mimiciv_note',\n",
       " 'public']"
      ]
     },
     "execution_count": 1,
     "metadata": {},
     "output_type": "execute_result"
    }
   ],
   "source": [
    "\"\"\"MIMICIV tutorial.\"\"\"\n",
    "\n",
    "import cycquery.ops as qo\n",
    "from cycquery import MIMICIVQuerier\n",
    "\n",
    "\n",
    "querier = MIMICIVQuerier(\n",
    "    dbms=\"postgresql\",\n",
    "    port=5432,\n",
    "    host=\"localhost\",\n",
    "    database=\"mimiciv-2.0\",\n",
    "    user=\"postgres\",\n",
    "    password=\"pwd\",\n",
    ")\n",
    "# List all schemas.\n",
    "querier.list_schemas()"
   ]
  },
  {
   "cell_type": "markdown",
   "id": "7b6214f8",
   "metadata": {
    "tags": []
   },
   "source": [
    "## Example 1. Get all patient admissions from 2021 or later (approx year of admission)"
   ]
  },
  {
   "cell_type": "code",
   "execution_count": 2,
   "id": "cdfadaa4-6fd6-4fd7-85cf-e012aa0799e1",
   "metadata": {
    "execution": {
     "iopub.execute_input": "2024-07-23T13:31:18.658144Z",
     "iopub.status.busy": "2024-07-23T13:31:18.656738Z",
     "iopub.status.idle": "2024-07-23T13:31:19.011193Z",
     "shell.execute_reply": "2024-07-23T13:31:19.009452Z"
    }
   },
   "outputs": [
    {
     "name": "stderr",
     "output_type": "stream",
     "text": [
      "2024-07-23 09:31:19,001 \u001b[1;37mINFO\u001b[0m cycquery.orm    - Query returned successfully!\n"
     ]
    },
    {
     "name": "stderr",
     "output_type": "stream",
     "text": [
      "2024-07-23 09:31:19,003 \u001b[1;37mINFO\u001b[0m cycquery.utils.profile - Finished executing function run_query in 0.308212 s\n"
     ]
    },
    {
     "name": "stdout",
     "output_type": "stream",
     "text": [
      "100 rows extracted!\n"
     ]
    }
   ],
   "source": [
    "patients = querier.patients()\n",
    "admissions = querier.mimiciv_hosp.admissions()\n",
    "patient_admissions = patients.join(admissions, on=\"subject_id\")\n",
    "ops = qo.Sequential(\n",
    "    qo.AddDeltaColumn([\"admittime\", \"dischtime\"], years=\"anchor_year_difference\"),\n",
    "    qo.ConditionAfterDate(\"admittime\", \"2021-01-01\"),\n",
    ")\n",
    "patient_admissions = patient_admissions.ops(ops).run(limit=100)\n",
    "print(f\"{len(patient_admissions)} rows extracted!\")"
   ]
  },
  {
   "cell_type": "markdown",
   "id": "80d9f06e",
   "metadata": {},
   "source": [
    "## Example 2. Get all patient encounters with diagnoses (`schizophrenia` in ICD-10 long title), in the year 2015."
   ]
  },
  {
   "cell_type": "code",
   "execution_count": 3,
   "id": "a89a9cf0",
   "metadata": {
    "execution": {
     "iopub.execute_input": "2024-07-23T13:31:19.018737Z",
     "iopub.status.busy": "2024-07-23T13:31:19.017367Z",
     "iopub.status.idle": "2024-07-23T13:31:21.157641Z",
     "shell.execute_reply": "2024-07-23T13:31:21.155752Z"
    }
   },
   "outputs": [
    {
     "name": "stderr",
     "output_type": "stream",
     "text": [
      "2024-07-23 09:31:21,147 \u001b[1;37mINFO\u001b[0m cycquery.orm    - Query returned successfully!\n"
     ]
    },
    {
     "name": "stderr",
     "output_type": "stream",
     "text": [
      "2024-07-23 09:31:21,149 \u001b[1;37mINFO\u001b[0m cycquery.utils.profile - Finished executing function run_query in 2.069413 s\n"
     ]
    },
    {
     "name": "stdout",
     "output_type": "stream",
     "text": [
      "100 rows extracted!\n"
     ]
    }
   ],
   "source": [
    "patients = querier.patients()\n",
    "admissions = querier.mimiciv_hosp.admissions()\n",
    "patient_admissions = patients.join(admissions, on=\"subject_id\")\n",
    "ops = qo.Sequential(\n",
    "    qo.AddDeltaColumn([\"admittime\", \"dischtime\"], years=\"anchor_year_difference\"),\n",
    "    qo.ConditionInYears(\"admittime\", \"2015\"),\n",
    ")\n",
    "patient_admissions = patient_admissions.ops(ops)\n",
    "diagnoses = querier.diagnoses_icd()\n",
    "diagnoses_ops = qo.Sequential(\n",
    "    qo.ConditionEquals(\"icd_version\", 10),\n",
    "    qo.ConditionSubstring(\"long_title\", \"schizophrenia\"),\n",
    ")\n",
    "diagnoses = diagnoses.ops(diagnoses_ops)\n",
    "patient_admissions_diagnoses = patient_admissions.join(\n",
    "    join_table=diagnoses,\n",
    "    on=[\"subject_id\", \"hadm_id\"],\n",
    ").run(limit=100)\n",
    "print(f\"{len(patient_admissions_diagnoses)} rows extracted!\")"
   ]
  },
  {
   "cell_type": "markdown",
   "id": "e2baea54",
   "metadata": {},
   "source": [
    "## Example 3. Advanced - uses `ConditionRegexMatch` from `cycquery.ops`. Get all patient encounters with diagnoses (ICD-9 long title contains `schizophrenia` and `chronic` ), in the year 2015."
   ]
  },
  {
   "cell_type": "code",
   "execution_count": 4,
   "id": "03936cee",
   "metadata": {
    "execution": {
     "iopub.execute_input": "2024-07-23T13:31:21.165408Z",
     "iopub.status.busy": "2024-07-23T13:31:21.163878Z",
     "iopub.status.idle": "2024-07-23T13:31:24.809954Z",
     "shell.execute_reply": "2024-07-23T13:31:24.808147Z"
    }
   },
   "outputs": [
    {
     "name": "stderr",
     "output_type": "stream",
     "text": [
      "2024-07-23 09:31:24,799 \u001b[1;37mINFO\u001b[0m cycquery.orm    - Query returned successfully!\n"
     ]
    },
    {
     "name": "stderr",
     "output_type": "stream",
     "text": [
      "2024-07-23 09:31:24,802 \u001b[1;37mINFO\u001b[0m cycquery.utils.profile - Finished executing function run_query in 3.575779 s\n"
     ]
    },
    {
     "name": "stdout",
     "output_type": "stream",
     "text": [
      "82 rows extracted!\n"
     ]
    }
   ],
   "source": [
    "patients = querier.patients()\n",
    "admissions = querier.mimiciv_hosp.admissions()\n",
    "patient_admissions = patients.join(admissions, on=\"subject_id\")\n",
    "ops = qo.Sequential(\n",
    "    qo.AddDeltaColumn([\"admittime\", \"dischtime\"], years=\"anchor_year_difference\"),\n",
    "    qo.ConditionInYears(\"admittime\", \"2015\"),\n",
    ")\n",
    "patient_admissions = patient_admissions.ops(ops)\n",
    "diagnoses = querier.diagnoses_icd()\n",
    "diagnoses_ops = qo.Sequential(\n",
    "    qo.ConditionEquals(\"icd_version\", 9),\n",
    "    qo.ConditionRegexMatch(\"long_title\", r\"(?=.*schizophrenia)(?=.*chronic)\"),\n",
    ")\n",
    "diagnoses = diagnoses.ops(diagnoses_ops)\n",
    "patient_admissions_diagnoses = patient_admissions.join(\n",
    "    join_table=diagnoses,\n",
    "    on=[\"subject_id\", \"hadm_id\"],\n",
    ").run(limit=100)\n",
    "print(f\"{len(patient_admissions_diagnoses)} rows extracted!\")"
   ]
  },
  {
   "cell_type": "markdown",
   "id": "30b0d604",
   "metadata": {},
   "source": [
    "## Example 4. Get routine vital signs for patients from year 2015."
   ]
  },
  {
   "cell_type": "code",
   "execution_count": 5,
   "id": "56a72377",
   "metadata": {
    "execution": {
     "iopub.execute_input": "2024-07-23T13:31:24.817860Z",
     "iopub.status.busy": "2024-07-23T13:31:24.816561Z",
     "iopub.status.idle": "2024-07-23T13:31:28.209629Z",
     "shell.execute_reply": "2024-07-23T13:31:28.207816Z"
    }
   },
   "outputs": [
    {
     "name": "stderr",
     "output_type": "stream",
     "text": [
      "2024-07-23 09:31:28,200 \u001b[1;37mINFO\u001b[0m cycquery.orm    - Query returned successfully!\n"
     ]
    },
    {
     "name": "stderr",
     "output_type": "stream",
     "text": [
      "2024-07-23 09:31:28,201 \u001b[1;37mINFO\u001b[0m cycquery.utils.profile - Finished executing function run_query in 3.327204 s\n"
     ]
    },
    {
     "name": "stdout",
     "output_type": "stream",
     "text": [
      "100 rows extracted!\n"
     ]
    }
   ],
   "source": [
    "patients = querier.patients()\n",
    "admissions = querier.mimiciv_hosp.admissions()\n",
    "patient_admissions = patients.join(admissions, on=\"subject_id\")\n",
    "ops = qo.Sequential(\n",
    "    qo.AddDeltaColumn([\"admittime\", \"dischtime\"], years=\"anchor_year_difference\"),\n",
    "    qo.ConditionInYears(\"admittime\", \"2015\"),\n",
    ")\n",
    "patient_admissions = patient_admissions.ops(ops)\n",
    "chart_events = querier.chartevents()\n",
    "vitals = chart_events.ops(qo.ConditionEquals(\"category\", \"Routine Vital Signs\"))\n",
    "patient_admissions_vitals = patient_admissions.join(\n",
    "    join_table=vitals,\n",
    "    on=[\"subject_id\", \"hadm_id\"],\n",
    ").run(limit=100)\n",
    "print(f\"{len(patient_admissions_vitals)} rows extracted!\")"
   ]
  },
  {
   "cell_type": "markdown",
   "id": "621479f0",
   "metadata": {},
   "source": [
    "## Example 5. Get hemoglobin lab tests for patients from year 2009."
   ]
  },
  {
   "cell_type": "code",
   "execution_count": 6,
   "id": "bce11f81",
   "metadata": {
    "execution": {
     "iopub.execute_input": "2024-07-23T13:31:28.216938Z",
     "iopub.status.busy": "2024-07-23T13:31:28.216133Z",
     "iopub.status.idle": "2024-07-23T13:31:32.344108Z",
     "shell.execute_reply": "2024-07-23T13:31:32.342470Z"
    }
   },
   "outputs": [
    {
     "name": "stderr",
     "output_type": "stream",
     "text": [
      "2024-07-23 09:31:32,335 \u001b[1;37mINFO\u001b[0m cycquery.orm    - Query returned successfully!\n"
     ]
    },
    {
     "name": "stderr",
     "output_type": "stream",
     "text": [
      "2024-07-23 09:31:32,337 \u001b[1;37mINFO\u001b[0m cycquery.utils.profile - Finished executing function run_query in 4.062617 s\n"
     ]
    },
    {
     "name": "stdout",
     "output_type": "stream",
     "text": [
      "100 rows extracted!\n"
     ]
    }
   ],
   "source": [
    "patients = querier.patients()\n",
    "admissions = querier.mimiciv_hosp.admissions()\n",
    "patient_admissions = patients.join(admissions, on=\"subject_id\")\n",
    "ops = qo.Sequential(\n",
    "    qo.AddDeltaColumn([\"admittime\", \"dischtime\"], years=\"anchor_year_difference\"),\n",
    "    qo.ConditionInYears(\"admittime\", \"2009\"),\n",
    ")\n",
    "patient_admissions = patient_admissions.ops(ops)\n",
    "chart_events = querier.chartevents()\n",
    "labs = chart_events.ops(qo.ConditionEquals(\"label\", \"hemoglobin\"))\n",
    "patient_admissions_labs = patient_admissions.join(\n",
    "    join_table=labs,\n",
    "    on=[\"subject_id\", \"hadm_id\"],\n",
    ").run(limit=100)\n",
    "print(f\"{len(patient_admissions_labs)} rows extracted!\")"
   ]
  },
  {
   "cell_type": "markdown",
   "id": "b0a9bc12-dda3-4445-9156-52d295a1c48f",
   "metadata": {},
   "source": [
    "## Example 6. Get radiology reports and filter on keywords `lymphadenopathy` and `infectious` occurring together from year 2009."
   ]
  },
  {
   "cell_type": "code",
   "execution_count": 7,
   "id": "f00d270c-d78f-4dc0-8dae-ff4d52958c8b",
   "metadata": {
    "execution": {
     "iopub.execute_input": "2024-07-23T13:31:32.351930Z",
     "iopub.status.busy": "2024-07-23T13:31:32.350556Z",
     "iopub.status.idle": "2024-07-23T13:31:42.524862Z",
     "shell.execute_reply": "2024-07-23T13:31:42.523242Z"
    },
    "tags": []
   },
   "outputs": [
    {
     "name": "stderr",
     "output_type": "stream",
     "text": [
      "2024-07-23 09:31:42,516 \u001b[1;37mINFO\u001b[0m cycquery.orm    - Query returned successfully!\n"
     ]
    },
    {
     "name": "stderr",
     "output_type": "stream",
     "text": [
      "2024-07-23 09:31:42,518 \u001b[1;37mINFO\u001b[0m cycquery.utils.profile - Finished executing function run_query in 10.121984 s\n"
     ]
    },
    {
     "name": "stdout",
     "output_type": "stream",
     "text": [
      "100 rows extracted!\n"
     ]
    }
   ],
   "source": [
    "patients = querier.patients()\n",
    "admissions = querier.mimiciv_hosp.admissions()\n",
    "patient_admissions = patients.join(admissions, on=\"subject_id\")\n",
    "ops = qo.Sequential(\n",
    "    qo.AddDeltaColumn([\"admittime\", \"dischtime\"], years=\"anchor_year_difference\"),\n",
    "    qo.ConditionInYears(\"admittime\", \"2009\"),\n",
    ")\n",
    "patient_admissions = patient_admissions.ops(ops)\n",
    "radiology_notes = querier.mimiciv_note.radiology()\n",
    "radiology_notes_ops = qo.Sequential(\n",
    "    qo.And(\n",
    "        qo.ConditionLike(\"text\", \"% lymphadenopathy %\"),\n",
    "        qo.ConditionLike(\"text\", \"% infectious %\"),\n",
    "    ),\n",
    ")\n",
    "radiology_notes = radiology_notes.ops(radiology_notes_ops)\n",
    "patient_admissions_radiology_notes = patient_admissions.join(\n",
    "    join_table=radiology_notes,\n",
    "    on=[\"subject_id\", \"hadm_id\"],\n",
    ").run(limit=100)\n",
    "print(f\"{len(patient_admissions_radiology_notes)} rows extracted!\")"
   ]
  },
  {
   "cell_type": "markdown",
   "id": "9550ba62-c128-4259-a075-0cbd9c70b662",
   "metadata": {},
   "source": [
    "## Example 7. Get all female patient encounters from year 2015, and return batches partitioned and indexed on `subject_id`."
   ]
  },
  {
   "cell_type": "code",
   "execution_count": 8,
   "id": "28683d70-376e-4d9b-883d-1a7de634e455",
   "metadata": {
    "execution": {
     "iopub.execute_input": "2024-07-23T13:31:42.532289Z",
     "iopub.status.busy": "2024-07-23T13:31:42.530991Z",
     "iopub.status.idle": "2024-07-23T13:31:44.213373Z",
     "shell.execute_reply": "2024-07-23T13:31:44.211680Z"
    }
   },
   "outputs": [
    {
     "name": "stderr",
     "output_type": "stream",
     "text": [
      "2024-07-23 09:31:43,749 \u001b[1;37mINFO\u001b[0m cycquery.orm    - Query returned successfully!\n"
     ]
    },
    {
     "name": "stderr",
     "output_type": "stream",
     "text": [
      "2024-07-23 09:31:43,750 \u001b[1;37mINFO\u001b[0m cycquery.utils.profile - Finished executing function run_query in 1.129751 s\n"
     ]
    },
    {
     "name": "stdout",
     "output_type": "stream",
     "text": [
      "999 rows extracted!\n"
     ]
    }
   ],
   "source": [
    "patients = querier.patients()\n",
    "admissions = querier.mimiciv_hosp.admissions()\n",
    "patient_admissions = patients.join(admissions, on=\"subject_id\")\n",
    "ops = qo.Sequential(\n",
    "    qo.AddDeltaColumn([\"admittime\", \"dischtime\"], years=\"anchor_year_difference\"),\n",
    "    qo.ConditionInYears(\"admittime\", \"2015\"),\n",
    "    qo.Cast(\"gender\", \"str\"),\n",
    "    qo.ConditionEquals(\"gender\", \"F\"),\n",
    ")\n",
    "patient_admissions = patient_admissions.ops(ops)\n",
    "patient_admissions = patient_admissions.run(\n",
    "    index_col=\"subject_id\",\n",
    "    batch_mode=True,\n",
    "    batch_size=1000,\n",
    ")\n",
    "patient_admissions_df = next(patient_admissions)\n",
    "print(f\"{len(patient_admissions_df)} rows extracted!\")"
   ]
  },
  {
   "cell_type": "markdown",
   "id": "e1ed2708",
   "metadata": {},
   "source": [
    "## Example 8. Running a raw SQL string."
   ]
  },
  {
   "cell_type": "code",
   "execution_count": 9,
   "id": "a853deec",
   "metadata": {
    "execution": {
     "iopub.execute_input": "2024-07-23T13:31:44.220833Z",
     "iopub.status.busy": "2024-07-23T13:31:44.219452Z",
     "iopub.status.idle": "2024-07-23T13:31:44.242689Z",
     "shell.execute_reply": "2024-07-23T13:31:44.241084Z"
    },
    "tags": []
   },
   "outputs": [
    {
     "name": "stderr",
     "output_type": "stream",
     "text": [
      "2024-07-23 09:31:44,234 \u001b[1;37mINFO\u001b[0m cycquery.orm    - Query returned successfully!\n"
     ]
    },
    {
     "name": "stderr",
     "output_type": "stream",
     "text": [
      "2024-07-23 09:31:44,235 \u001b[1;37mINFO\u001b[0m cycquery.utils.profile - Finished executing function run_query in 0.012791 s\n"
     ]
    },
    {
     "name": "stdout",
     "output_type": "stream",
     "text": [
      "100 rows extracted!\n"
     ]
    }
   ],
   "source": [
    "data = querier.db.run_query(\"SELECT * FROM mimiciv_hosp.admissions LIMIT 100\")\n",
    "print(f\"{len(data)} rows extracted!\")"
   ]
  }
 ],
 "metadata": {
  "kernelspec": {
   "display_name": "Python 3 (ipykernel)",
   "language": "python",
   "name": "python3"
  },
  "language_info": {
   "codemirror_mode": {
    "name": "ipython",
    "version": 3
   },
   "file_extension": ".py",
   "mimetype": "text/x-python",
   "name": "python",
   "nbconvert_exporter": "python",
   "pygments_lexer": "ipython3",
   "version": "3.10.14"
  }
 },
 "nbformat": 4,
 "nbformat_minor": 5
}
