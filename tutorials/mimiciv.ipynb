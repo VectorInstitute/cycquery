{
 "cells": [
  {
   "cell_type": "markdown",
   "id": "e337389b-1cfe-4796-a846-b4e1ba5690d6",
   "metadata": {},
   "source": [
    "# MIMIC-IV tutorial"
   ]
  },
  {
   "cell_type": "markdown",
   "id": "1efffc64",
   "metadata": {},
   "source": [
    "This notebook shows examples of how to use the cycquery tool on [MIMIC-IV v2.0](https://physionet.org/content/mimiciv/2.0/).\n",
    "\n",
    "Each query is limit to 100 rows (for quick results).\n",
    "\n",
    "* First, setup the MIMIC-IV database according to the instructions in [mimic-code](https://github.com/MIT-LCP/mimic-code/tree/main/mimic-iv/buildmimic/postgres).\n",
    "* The database is assumed to be hosted using postgres. Update the config parameters such as username and password, passed to `MIMICIVQuerier` accordingly."
   ]
  },
  {
   "cell_type": "markdown",
   "id": "12c18656-7f16-4230-85d0-944563d6a13e",
   "metadata": {},
   "source": [
    "## Imports and instantiate `MIMICIVQuerier`"
   ]
  },
  {
   "cell_type": "code",
   "execution_count": 1,
   "id": "53009e6b",
   "metadata": {
    "execution": {
     "iopub.execute_input": "2024-06-10T23:12:09.561194Z",
     "iopub.status.busy": "2024-06-10T23:12:09.559890Z",
     "iopub.status.idle": "2024-06-10T23:12:19.337238Z",
     "shell.execute_reply": "2024-06-10T23:12:19.335396Z"
    },
    "tags": []
   },
   "outputs": [
    {
     "name": "stderr",
     "output_type": "stream",
     "text": [
      "2024-06-10 19:12:17,097 \u001b[1;37mINFO\u001b[0m cycquery.orm    - Database setup, ready to run queries!\n"
     ]
    },
    {
     "data": {
      "text/plain": [
       "['fhir_etl',\n",
       " 'fhir_trm',\n",
       " 'information_schema',\n",
       " 'mimic_fhir',\n",
       " 'mimiciv_derived',\n",
       " 'mimiciv_ed',\n",
       " 'mimiciv_hosp',\n",
       " 'mimiciv_icu',\n",
       " 'mimiciv_note',\n",
       " 'public']"
      ]
     },
     "execution_count": 1,
     "metadata": {},
     "output_type": "execute_result"
    }
   ],
   "source": [
    "\"\"\"MIMICIV tutorial.\"\"\"\n",
    "\n",
    "import cycquery.ops as qo\n",
    "from cycquery import MIMICIVQuerier\n",
    "\n",
    "\n",
    "querier = MIMICIVQuerier(\n",
    "    dbms=\"postgresql\",\n",
    "    port=5432,\n",
    "    host=\"localhost\",\n",
    "    database=\"mimiciv-2.0\",\n",
    "    user=\"postgres\",\n",
    "    password=\"pwd\",\n",
    ")\n",
    "# List all schemas.\n",
    "querier.list_schemas()"
   ]
  },
  {
   "cell_type": "markdown",
   "id": "7b6214f8",
   "metadata": {
    "tags": []
   },
   "source": [
    "## Example 1. Get all patient admissions from 2021 or later (approx year of admission)"
   ]
  },
  {
   "cell_type": "code",
   "execution_count": 2,
   "id": "cdfadaa4-6fd6-4fd7-85cf-e012aa0799e1",
   "metadata": {
    "execution": {
     "iopub.execute_input": "2024-06-10T23:12:19.346909Z",
     "iopub.status.busy": "2024-06-10T23:12:19.345144Z",
     "iopub.status.idle": "2024-06-10T23:12:19.784179Z",
     "shell.execute_reply": "2024-06-10T23:12:19.782293Z"
    }
   },
   "outputs": [
    {
     "name": "stderr",
     "output_type": "stream",
     "text": [
      "2024-06-10 19:12:19,774 \u001b[1;37mINFO\u001b[0m cycquery.orm    - Query returned successfully!\n"
     ]
    },
    {
     "name": "stderr",
     "output_type": "stream",
     "text": [
      "2024-06-10 19:12:19,776 \u001b[1;37mINFO\u001b[0m cycquery.utils.profile - Finished executing function run_query in 0.392005 s\n"
     ]
    },
    {
     "name": "stdout",
     "output_type": "stream",
     "text": [
      "100 rows extracted!\n"
     ]
    }
   ],
   "source": [
    "patients = querier.patients()\n",
    "admissions = querier.mimiciv_hosp.admissions()\n",
    "patient_admissions = patients.join(admissions, on=\"subject_id\")\n",
    "ops = qo.Sequential(\n",
    "    qo.AddDeltaColumn([\"admittime\", \"dischtime\"], years=\"anchor_year_difference\"),\n",
    "    qo.ConditionAfterDate(\"admittime\", \"2021-01-01\"),\n",
    ")\n",
    "patient_admissions = patient_admissions.ops(ops).run(limit=100)\n",
    "print(f\"{len(patient_admissions)} rows extracted!\")"
   ]
  },
  {
   "cell_type": "markdown",
   "id": "80d9f06e",
   "metadata": {},
   "source": [
    "## Example 2. Get all patient encounters with diagnoses (`schizophrenia` in ICD-10 long title), in the year 2015."
   ]
  },
  {
   "cell_type": "code",
   "execution_count": 3,
   "id": "a89a9cf0",
   "metadata": {
    "execution": {
     "iopub.execute_input": "2024-06-10T23:12:19.791997Z",
     "iopub.status.busy": "2024-06-10T23:12:19.790489Z",
     "iopub.status.idle": "2024-06-10T23:12:22.467365Z",
     "shell.execute_reply": "2024-06-10T23:12:22.465427Z"
    }
   },
   "outputs": [
    {
     "name": "stderr",
     "output_type": "stream",
     "text": [
      "2024-06-10 19:12:22,457 \u001b[1;37mINFO\u001b[0m cycquery.orm    - Query returned successfully!\n"
     ]
    },
    {
     "name": "stderr",
     "output_type": "stream",
     "text": [
      "2024-06-10 19:12:22,459 \u001b[1;37mINFO\u001b[0m cycquery.utils.profile - Finished executing function run_query in 2.606682 s\n"
     ]
    },
    {
     "name": "stdout",
     "output_type": "stream",
     "text": [
      "100 rows extracted!\n"
     ]
    }
   ],
   "source": [
    "patients = querier.patients()\n",
    "admissions = querier.mimiciv_hosp.admissions()\n",
    "patient_admissions = patients.join(admissions, on=\"subject_id\")\n",
    "ops = qo.Sequential(\n",
    "    qo.AddDeltaColumn([\"admittime\", \"dischtime\"], years=\"anchor_year_difference\"),\n",
    "    qo.ConditionInYears(\"admittime\", \"2015\"),\n",
    ")\n",
    "patient_admissions = patient_admissions.ops(ops)\n",
    "diagnoses = querier.diagnoses_icd()\n",
    "diagnoses_ops = qo.Sequential(\n",
    "    qo.ConditionEquals(\"icd_version\", 10),\n",
    "    qo.ConditionSubstring(\"long_title\", \"schizophrenia\"),\n",
    ")\n",
    "diagnoses = diagnoses.ops(diagnoses_ops)\n",
    "patient_admissions_diagnoses = patient_admissions.join(\n",
    "    join_table=diagnoses,\n",
    "    on=[\"subject_id\", \"hadm_id\"],\n",
    ").run(limit=100)\n",
    "print(f\"{len(patient_admissions_diagnoses)} rows extracted!\")"
   ]
  },
  {
   "cell_type": "markdown",
   "id": "e2baea54",
   "metadata": {},
   "source": [
    "## Example 3. Advanced - uses `ConditionRegexMatch` from `cycquery.ops`. Get all patient encounters with diagnoses (ICD-9 long title contains `schizophrenia` and `chronic` ), in the year 2015."
   ]
  },
  {
   "cell_type": "code",
   "execution_count": 4,
   "id": "03936cee",
   "metadata": {
    "execution": {
     "iopub.execute_input": "2024-06-10T23:12:22.474452Z",
     "iopub.status.busy": "2024-06-10T23:12:22.473371Z",
     "iopub.status.idle": "2024-06-10T23:12:26.696651Z",
     "shell.execute_reply": "2024-06-10T23:12:26.694822Z"
    }
   },
   "outputs": [
    {
     "name": "stderr",
     "output_type": "stream",
     "text": [
      "2024-06-10 19:12:26,686 \u001b[1;37mINFO\u001b[0m cycquery.orm    - Query returned successfully!\n"
     ]
    },
    {
     "name": "stderr",
     "output_type": "stream",
     "text": [
      "2024-06-10 19:12:26,688 \u001b[1;37mINFO\u001b[0m cycquery.utils.profile - Finished executing function run_query in 4.156628 s\n"
     ]
    },
    {
     "name": "stdout",
     "output_type": "stream",
     "text": [
      "82 rows extracted!\n"
     ]
    }
   ],
   "source": [
    "patients = querier.patients()\n",
    "admissions = querier.mimiciv_hosp.admissions()\n",
    "patient_admissions = patients.join(admissions, on=\"subject_id\")\n",
    "ops = qo.Sequential(\n",
    "    qo.AddDeltaColumn([\"admittime\", \"dischtime\"], years=\"anchor_year_difference\"),\n",
    "    qo.ConditionInYears(\"admittime\", \"2015\"),\n",
    ")\n",
    "patient_admissions = patient_admissions.ops(ops)\n",
    "diagnoses = querier.diagnoses_icd()\n",
    "diagnoses_ops = qo.Sequential(\n",
    "    qo.ConditionEquals(\"icd_version\", 9),\n",
    "    qo.ConditionRegexMatch(\"long_title\", r\"(?=.*schizophrenia)(?=.*chronic)\"),\n",
    ")\n",
    "diagnoses = diagnoses.ops(diagnoses_ops)\n",
    "patient_admissions_diagnoses = patient_admissions.join(\n",
    "    join_table=diagnoses,\n",
    "    on=[\"subject_id\", \"hadm_id\"],\n",
    ").run(limit=100)\n",
    "print(f\"{len(patient_admissions_diagnoses)} rows extracted!\")"
   ]
  },
  {
   "cell_type": "markdown",
   "id": "30b0d604",
   "metadata": {},
   "source": [
    "## Example 4. Get routine vital signs for patients from year 2015."
   ]
  },
  {
   "cell_type": "code",
   "execution_count": 5,
   "id": "56a72377",
   "metadata": {
    "execution": {
     "iopub.execute_input": "2024-06-10T23:12:26.703689Z",
     "iopub.status.busy": "2024-06-10T23:12:26.702973Z",
     "iopub.status.idle": "2024-06-10T23:12:30.277608Z",
     "shell.execute_reply": "2024-06-10T23:12:30.275779Z"
    }
   },
   "outputs": [
    {
     "name": "stderr",
     "output_type": "stream",
     "text": [
      "2024-06-10 19:12:30,267 \u001b[1;37mINFO\u001b[0m cycquery.orm    - Query returned successfully!\n"
     ]
    },
    {
     "name": "stderr",
     "output_type": "stream",
     "text": [
      "2024-06-10 19:12:30,270 \u001b[1;37mINFO\u001b[0m cycquery.utils.profile - Finished executing function run_query in 3.508185 s\n"
     ]
    },
    {
     "name": "stdout",
     "output_type": "stream",
     "text": [
      "100 rows extracted!\n"
     ]
    }
   ],
   "source": [
    "patients = querier.patients()\n",
    "admissions = querier.mimiciv_hosp.admissions()\n",
    "patient_admissions = patients.join(admissions, on=\"subject_id\")\n",
    "ops = qo.Sequential(\n",
    "    qo.AddDeltaColumn([\"admittime\", \"dischtime\"], years=\"anchor_year_difference\"),\n",
    "    qo.ConditionInYears(\"admittime\", \"2015\"),\n",
    ")\n",
    "patient_admissions = patient_admissions.ops(ops)\n",
    "chart_events = querier.chartevents()\n",
    "vitals = chart_events.ops(qo.ConditionEquals(\"category\", \"Routine Vital Signs\"))\n",
    "patient_admissions_vitals = patient_admissions.join(\n",
    "    join_table=vitals,\n",
    "    on=[\"subject_id\", \"hadm_id\"],\n",
    ").run(limit=100)\n",
    "print(f\"{len(patient_admissions_vitals)} rows extracted!\")"
   ]
  },
  {
   "cell_type": "markdown",
   "id": "621479f0",
   "metadata": {},
   "source": [
    "## Example 5. Get hemoglobin lab tests for patients from year 2009."
   ]
  },
  {
   "cell_type": "code",
   "execution_count": 6,
   "id": "bce11f81",
   "metadata": {
    "execution": {
     "iopub.execute_input": "2024-06-10T23:12:30.285110Z",
     "iopub.status.busy": "2024-06-10T23:12:30.284047Z",
     "iopub.status.idle": "2024-06-10T23:12:34.146599Z",
     "shell.execute_reply": "2024-06-10T23:12:34.144740Z"
    }
   },
   "outputs": [
    {
     "name": "stderr",
     "output_type": "stream",
     "text": [
      "2024-06-10 19:12:34,137 \u001b[1;37mINFO\u001b[0m cycquery.orm    - Query returned successfully!\n"
     ]
    },
    {
     "name": "stderr",
     "output_type": "stream",
     "text": [
      "2024-06-10 19:12:34,139 \u001b[1;37mINFO\u001b[0m cycquery.utils.profile - Finished executing function run_query in 3.794016 s\n"
     ]
    },
    {
     "name": "stdout",
     "output_type": "stream",
     "text": [
      "100 rows extracted!\n"
     ]
    }
   ],
   "source": [
    "patients = querier.patients()\n",
    "admissions = querier.mimiciv_hosp.admissions()\n",
    "patient_admissions = patients.join(admissions, on=\"subject_id\")\n",
    "ops = qo.Sequential(\n",
    "    qo.AddDeltaColumn([\"admittime\", \"dischtime\"], years=\"anchor_year_difference\"),\n",
    "    qo.ConditionInYears(\"admittime\", \"2009\"),\n",
    ")\n",
    "patient_admissions = patient_admissions.ops(ops)\n",
    "chart_events = querier.chartevents()\n",
    "labs = chart_events.ops(qo.ConditionEquals(\"label\", \"hemoglobin\"))\n",
    "patient_admissions_labs = patient_admissions.join(\n",
    "    join_table=labs,\n",
    "    on=[\"subject_id\", \"hadm_id\"],\n",
    ").run(limit=100)\n",
    "print(f\"{len(patient_admissions_labs)} rows extracted!\")"
   ]
  },
  {
   "cell_type": "markdown",
   "id": "b0a9bc12-dda3-4445-9156-52d295a1c48f",
   "metadata": {},
   "source": [
    "## Example 6. Get radiology reports and filter on keywords `lymphadenopathy` and `infectious` occurring together from year 2009."
   ]
  },
  {
   "cell_type": "code",
   "execution_count": 7,
   "id": "f00d270c-d78f-4dc0-8dae-ff4d52958c8b",
   "metadata": {
    "execution": {
     "iopub.execute_input": "2024-06-10T23:12:34.153951Z",
     "iopub.status.busy": "2024-06-10T23:12:34.152900Z",
     "iopub.status.idle": "2024-06-10T23:13:36.133058Z",
     "shell.execute_reply": "2024-06-10T23:13:36.131128Z"
    },
    "tags": []
   },
   "outputs": [
    {
     "name": "stderr",
     "output_type": "stream",
     "text": [
      "2024-06-10 19:13:36,121 \u001b[1;37mINFO\u001b[0m cycquery.orm    - Query returned successfully!\n"
     ]
    },
    {
     "name": "stderr",
     "output_type": "stream",
     "text": [
      "2024-06-10 19:13:36,124 \u001b[1;37mINFO\u001b[0m cycquery.utils.profile - Finished executing function run_query in 61.922573 s\n"
     ]
    },
    {
     "name": "stdout",
     "output_type": "stream",
     "text": [
      "100 rows extracted!\n"
     ]
    }
   ],
   "source": [
    "patients = querier.patients()\n",
    "admissions = querier.mimiciv_hosp.admissions()\n",
    "patient_admissions = patients.join(admissions, on=\"subject_id\")\n",
    "ops = qo.Sequential(\n",
    "    qo.AddDeltaColumn([\"admittime\", \"dischtime\"], years=\"anchor_year_difference\"),\n",
    "    qo.ConditionInYears(\"admittime\", \"2009\"),\n",
    ")\n",
    "patient_admissions = patient_admissions.ops(ops)\n",
    "radiology_notes = querier.mimiciv_note.radiology()\n",
    "radiology_notes_ops = qo.Sequential(\n",
    "    qo.And(\n",
    "        qo.ConditionLike(\"text\", \"% lymphadenopathy %\"),\n",
    "        qo.ConditionLike(\"text\", \"% infectious %\"),\n",
    "    ),\n",
    ")\n",
    "radiology_notes = radiology_notes.ops(radiology_notes_ops)\n",
    "patient_admissions_radiology_notes = patient_admissions.join(\n",
    "    join_table=radiology_notes,\n",
    "    on=[\"subject_id\", \"hadm_id\"],\n",
    ").run(limit=100)\n",
    "print(f\"{len(patient_admissions_radiology_notes)} rows extracted!\")"
   ]
  },
  {
   "cell_type": "markdown",
   "id": "9550ba62-c128-4259-a075-0cbd9c70b662",
   "metadata": {},
   "source": [
    "## Example 7. Get all female patient encounters from year 2015, and return batches partitioned and indexed on `subject_id`."
   ]
  },
  {
   "cell_type": "code",
   "execution_count": 8,
   "id": "28683d70-376e-4d9b-883d-1a7de634e455",
   "metadata": {
    "execution": {
     "iopub.execute_input": "2024-06-10T23:13:36.140377Z",
     "iopub.status.busy": "2024-06-10T23:13:36.139323Z",
     "iopub.status.idle": "2024-06-10T23:13:37.836091Z",
     "shell.execute_reply": "2024-06-10T23:13:37.834163Z"
    }
   },
   "outputs": [
    {
     "name": "stderr",
     "output_type": "stream",
     "text": [
      "2024-06-10 19:13:37,259 \u001b[1;37mINFO\u001b[0m cycquery.orm    - Query returned successfully!\n"
     ]
    },
    {
     "name": "stderr",
     "output_type": "stream",
     "text": [
      "2024-06-10 19:13:37,260 \u001b[1;37mINFO\u001b[0m cycquery.utils.profile - Finished executing function run_query in 1.032884 s\n"
     ]
    },
    {
     "name": "stdout",
     "output_type": "stream",
     "text": [
      "999 rows extracted!\n"
     ]
    }
   ],
   "source": [
    "patients = querier.patients()\n",
    "admissions = querier.mimiciv_hosp.admissions()\n",
    "patient_admissions = patients.join(admissions, on=\"subject_id\")\n",
    "ops = qo.Sequential(\n",
    "    qo.AddDeltaColumn([\"admittime\", \"dischtime\"], years=\"anchor_year_difference\"),\n",
    "    qo.ConditionInYears(\"admittime\", \"2015\"),\n",
    "    qo.Cast(\"gender\", \"str\"),\n",
    "    qo.ConditionEquals(\"gender\", \"F\"),\n",
    ")\n",
    "patient_admissions = patient_admissions.ops(ops)\n",
    "patient_admissions = patient_admissions.run(\n",
    "    index_col=\"subject_id\",\n",
    "    batch_mode=True,\n",
    "    batch_size=1000,\n",
    ")\n",
    "patient_admissions_df = next(patient_admissions)\n",
    "print(f\"{len(patient_admissions_df)} rows extracted!\")"
   ]
  },
  {
   "cell_type": "markdown",
   "id": "e1ed2708",
   "metadata": {},
   "source": [
    "## Example 8. Running a raw SQL string."
   ]
  },
  {
   "cell_type": "code",
   "execution_count": 9,
   "id": "a853deec",
   "metadata": {
    "execution": {
     "iopub.execute_input": "2024-06-10T23:13:37.843562Z",
     "iopub.status.busy": "2024-06-10T23:13:37.842489Z",
     "iopub.status.idle": "2024-06-10T23:13:37.865740Z",
     "shell.execute_reply": "2024-06-10T23:13:37.864009Z"
    },
    "tags": []
   },
   "outputs": [
    {
     "name": "stderr",
     "output_type": "stream",
     "text": [
      "2024-06-10 19:13:37,857 \u001b[1;37mINFO\u001b[0m cycquery.orm    - Query returned successfully!\n"
     ]
    },
    {
     "name": "stderr",
     "output_type": "stream",
     "text": [
      "2024-06-10 19:13:37,858 \u001b[1;37mINFO\u001b[0m cycquery.utils.profile - Finished executing function run_query in 0.012881 s\n"
     ]
    },
    {
     "name": "stdout",
     "output_type": "stream",
     "text": [
      "100 rows extracted!\n"
     ]
    }
   ],
   "source": [
    "data = querier.db.run_query(\"SELECT * FROM mimiciv_hosp.admissions LIMIT 100\")\n",
    "print(f\"{len(data)} rows extracted!\")"
   ]
  }
 ],
 "metadata": {
  "kernelspec": {
   "display_name": "Python 3 (ipykernel)",
   "language": "python",
   "name": "python3"
  },
  "language_info": {
   "codemirror_mode": {
    "name": "ipython",
    "version": 3
   },
   "file_extension": ".py",
   "mimetype": "text/x-python",
   "name": "python",
   "nbconvert_exporter": "python",
   "pygments_lexer": "ipython3",
   "version": "3.10.14"
  }
 },
 "nbformat": 4,
 "nbformat_minor": 5
}
