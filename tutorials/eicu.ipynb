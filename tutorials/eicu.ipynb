{
 "cells": [
  {
   "cell_type": "markdown",
   "id": "28288104-b8ce-43fa-a22b-8f02239551a5",
   "metadata": {},
   "source": [
    "# eICU-CRD tutorial"
   ]
  },
  {
   "cell_type": "markdown",
   "id": "74b155b9-9ba6-455c-b987-4c261c339364",
   "metadata": {},
   "source": [
    "This notebook shows examples of how to use the cycquery tool on [eicu-CRD](https://eicu-crd.mit.edu/).\n",
    "\n",
    "Each query is limit to 100 rows (for quick results).\n",
    "\n",
    "* First, setup the eICU database according to the instructions in [eicu-code](https://github.com/MIT-LCP/eicu-code/tree/master/build-db/postgres).\n",
    "* The database is assumed to be hosted using postgres. Update the config parameters such as username and password, passed to `EICUQuerier` accordingly."
   ]
  },
  {
   "cell_type": "markdown",
   "id": "0c7c1635-3a70-42d1-99a6-c7f7a9cf9d21",
   "metadata": {},
   "source": [
    "## Imports and instantiate `EICUQuerier`"
   ]
  },
  {
   "cell_type": "code",
   "execution_count": 1,
   "id": "75a140e0-fb27-4319-862f-be54397abe5c",
   "metadata": {
    "execution": {
     "iopub.execute_input": "2024-05-27T22:15:17.424722Z",
     "iopub.status.busy": "2024-05-27T22:15:17.423959Z",
     "iopub.status.idle": "2024-05-27T22:15:20.262348Z",
     "shell.execute_reply": "2024-05-27T22:15:20.260679Z"
    },
    "tags": []
   },
   "outputs": [
    {
     "name": "stderr",
     "output_type": "stream",
     "text": [
      "2024-05-27 18:15:19,507 \u001b[1;37mINFO\u001b[0m cycquery.orm    - Database setup, ready to run queries!\n"
     ]
    },
    {
     "data": {
      "text/plain": [
       "['eicu_crd.admissiondrug',\n",
       " 'eicu_crd.admissiondx',\n",
       " 'eicu_crd.allergy',\n",
       " 'eicu_crd.apacheapsvar',\n",
       " 'eicu_crd.apachepatientresult',\n",
       " 'eicu_crd.apachepredvar',\n",
       " 'eicu_crd.careplancareprovider',\n",
       " 'eicu_crd.careplaneol',\n",
       " 'eicu_crd.careplangeneral',\n",
       " 'eicu_crd.careplangoal',\n",
       " 'eicu_crd.careplaninfectiousdisease',\n",
       " 'eicu_crd.customlab',\n",
       " 'eicu_crd.diagnosis',\n",
       " 'eicu_crd.hospital',\n",
       " 'eicu_crd.infusiondrug',\n",
       " 'eicu_crd.intakeoutput',\n",
       " 'eicu_crd.lab',\n",
       " 'eicu_crd.medication',\n",
       " 'eicu_crd.microlab',\n",
       " 'eicu_crd.note',\n",
       " 'eicu_crd.nurseassessment',\n",
       " 'eicu_crd.nursecare',\n",
       " 'eicu_crd.nursecharting',\n",
       " 'eicu_crd.pasthistory',\n",
       " 'eicu_crd.patient',\n",
       " 'eicu_crd.physicalexam',\n",
       " 'eicu_crd.respiratorycare',\n",
       " 'eicu_crd.respiratorycharting',\n",
       " 'eicu_crd.treatment',\n",
       " 'eicu_crd.vitalaperiodic',\n",
       " 'eicu_crd.vitalperiodic']"
      ]
     },
     "execution_count": 1,
     "metadata": {},
     "output_type": "execute_result"
    }
   ],
   "source": [
    "\"\"\"eICU-CRD tutorial.\"\"\"\n",
    "\n",
    "import cycquery.ops as qo\n",
    "from cycquery import EICUQuerier\n",
    "\n",
    "\n",
    "querier = EICUQuerier(\n",
    "    dbms=\"postgresql\",\n",
    "    port=5432,\n",
    "    host=\"localhost\",\n",
    "    database=\"eicu\",\n",
    "    user=\"postgres\",\n",
    "    password=\"pwd\",\n",
    ")\n",
    "# List all tables.\n",
    "querier.list_tables(\"eicu_crd\")"
   ]
  },
  {
   "cell_type": "markdown",
   "id": "ea04cc11-e947-4097-91df-729f28b3732c",
   "metadata": {},
   "source": [
    "## Example 1. Get all female patients discharged in 2014 (limit to 100 rows)."
   ]
  },
  {
   "cell_type": "code",
   "execution_count": 2,
   "id": "c1efa964-8978-4a0e-9892-5ea4ce9953a3",
   "metadata": {
    "execution": {
     "iopub.execute_input": "2024-05-27T22:15:20.270005Z",
     "iopub.status.busy": "2024-05-27T22:15:20.268757Z",
     "iopub.status.idle": "2024-05-27T22:15:20.427748Z",
     "shell.execute_reply": "2024-05-27T22:15:20.426083Z"
    },
    "tags": []
   },
   "outputs": [
    {
     "name": "stderr",
     "output_type": "stream",
     "text": [
      "2024-05-27 18:15:20,419 \u001b[1;37mINFO\u001b[0m cycquery.orm    - Query returned successfully!\n"
     ]
    },
    {
     "name": "stderr",
     "output_type": "stream",
     "text": [
      "2024-05-27 18:15:20,421 \u001b[1;37mINFO\u001b[0m cycquery.utils.profile - Finished executing function run_query in 0.138272 s\n"
     ]
    },
    {
     "name": "stdout",
     "output_type": "stream",
     "text": [
      "100 rows extracted!\n"
     ]
    }
   ],
   "source": [
    "ops = qo.Sequential(\n",
    "    qo.ConditionEquals(\"hospitaldischargeyear\", 2014),\n",
    "    qo.ConditionEquals(\"gender\", \"Female\"),\n",
    ")\n",
    "patients = querier.eicu_crd.patient()\n",
    "patients = patients.ops(ops).run(limit=100)\n",
    "print(f\"{len(patients)} rows extracted!\")"
   ]
  },
  {
   "cell_type": "markdown",
   "id": "cd43679b-3d33-4135-b97c-373447289a9c",
   "metadata": {
    "tags": []
   },
   "source": [
    "## Example 2. Get all patient encounters with diagnoses (`schizophrenia` in `diagnosisstring`), discharged in the year 2015."
   ]
  },
  {
   "cell_type": "code",
   "execution_count": 3,
   "id": "a7ab5fa3-e26b-47a7-818f-1bf367a55760",
   "metadata": {
    "execution": {
     "iopub.execute_input": "2024-05-27T22:15:20.435099Z",
     "iopub.status.busy": "2024-05-27T22:15:20.434152Z",
     "iopub.status.idle": "2024-05-27T22:15:23.880621Z",
     "shell.execute_reply": "2024-05-27T22:15:23.878913Z"
    },
    "tags": []
   },
   "outputs": [
    {
     "name": "stderr",
     "output_type": "stream",
     "text": [
      "2024-05-27 18:15:23,871 \u001b[1;37mINFO\u001b[0m cycquery.orm    - Query returned successfully!\n"
     ]
    },
    {
     "name": "stderr",
     "output_type": "stream",
     "text": [
      "2024-05-27 18:15:23,873 \u001b[1;37mINFO\u001b[0m cycquery.utils.profile - Finished executing function run_query in 3.422364 s\n"
     ]
    },
    {
     "name": "stdout",
     "output_type": "stream",
     "text": [
      "100 rows extracted!\n"
     ]
    }
   ],
   "source": [
    "patients = querier.eicu_crd.patient()\n",
    "diagnoses = querier.eicu_crd.diagnosis()\n",
    "diagnoses = diagnoses.ops(qo.ConditionSubstring(\"diagnosisstring\", \"schizophrenia\"))\n",
    "patient_diagnoses = patients.join(\n",
    "    join_table=diagnoses,\n",
    "    on=\"patientunitstayid\",\n",
    ")\n",
    "patient_diagnoses = patient_diagnoses.run(limit=100)\n",
    "print(f\"{len(patient_diagnoses)} rows extracted!\")"
   ]
  },
  {
   "cell_type": "markdown",
   "id": "241f7d10-9e04-44ae-b325-87f5a4046df2",
   "metadata": {},
   "source": [
    "## Example 3. Get potassium lab tests for patients discharged in the year 2014, for all teaching hospitals."
   ]
  },
  {
   "cell_type": "code",
   "execution_count": 4,
   "id": "24043abc-1878-4e00-8229-36d4a0368b98",
   "metadata": {
    "execution": {
     "iopub.execute_input": "2024-05-27T22:15:23.887921Z",
     "iopub.status.busy": "2024-05-27T22:15:23.886780Z",
     "iopub.status.idle": "2024-05-27T22:15:24.525151Z",
     "shell.execute_reply": "2024-05-27T22:15:24.523344Z"
    },
    "tags": []
   },
   "outputs": [
    {
     "name": "stderr",
     "output_type": "stream",
     "text": [
      "2024-05-27 18:15:24,515 \u001b[1;37mINFO\u001b[0m cycquery.orm    - Query returned successfully!\n"
     ]
    },
    {
     "name": "stderr",
     "output_type": "stream",
     "text": [
      "2024-05-27 18:15:24,517 \u001b[1;37mINFO\u001b[0m cycquery.utils.profile - Finished executing function run_query in 0.599146 s\n"
     ]
    },
    {
     "name": "stdout",
     "output_type": "stream",
     "text": [
      "100 rows extracted!\n"
     ]
    }
   ],
   "source": [
    "hospitals = querier.eicu_crd.hospital()\n",
    "hospitals = hospitals.ops(qo.ConditionEquals(\"teachingstatus\", True))\n",
    "patients = querier.eicu_crd.patient()\n",
    "patients = patients.ops(qo.ConditionEquals(\"hospitaldischargeyear\", 2015))\n",
    "patients = patients.join(\n",
    "    join_table=hospitals,\n",
    "    on=\"hospitalid\",\n",
    ")\n",
    "labs = querier.eicu_crd.lab()\n",
    "labs = labs.ops(qo.ConditionEquals(\"labname\", \"potassium\"))\n",
    "patient_labs = patients.join(\n",
    "    join_table=labs,\n",
    "    on=\"patientunitstayid\",\n",
    ").run(limit=100)\n",
    "print(f\"{len(patient_labs)} rows extracted!\")"
   ]
  },
  {
   "cell_type": "markdown",
   "id": "2dbf0fdc-8d99-4fde-ab3e-7c8a67b72f8b",
   "metadata": {},
   "source": [
    "## Example 4. Get glucose medications (substring search) for female patients discharged in 2014."
   ]
  },
  {
   "cell_type": "code",
   "execution_count": 5,
   "id": "f6142f27-e8d1-453c-bfe2-2265d9ff1914",
   "metadata": {
    "execution": {
     "iopub.execute_input": "2024-05-27T22:15:24.533092Z",
     "iopub.status.busy": "2024-05-27T22:15:24.531953Z",
     "iopub.status.idle": "2024-05-27T22:15:29.541113Z",
     "shell.execute_reply": "2024-05-27T22:15:29.539139Z"
    },
    "tags": []
   },
   "outputs": [
    {
     "name": "stderr",
     "output_type": "stream",
     "text": [
      "2024-05-27 18:15:29,529 \u001b[1;37mINFO\u001b[0m cycquery.orm    - Query returned successfully!\n"
     ]
    },
    {
     "name": "stderr",
     "output_type": "stream",
     "text": [
      "2024-05-27 18:15:29,532 \u001b[1;37mINFO\u001b[0m cycquery.utils.profile - Finished executing function run_query in 4.973859 s\n"
     ]
    },
    {
     "name": "stdout",
     "output_type": "stream",
     "text": [
      "100 rows extracted!\n"
     ]
    }
   ],
   "source": [
    "ops = qo.Sequential(\n",
    "    qo.ConditionEquals(\"hospitaldischargeyear\", 2014),\n",
    "    qo.ConditionEquals(\"gender\", \"Female\"),\n",
    ")\n",
    "patients = querier.eicu_crd.patient()\n",
    "patients = patients.ops(ops)\n",
    "medications = querier.eicu_crd.medication()\n",
    "medications = medications.ops(qo.ConditionSubstring(\"drugname\", \"glucose\"))\n",
    "patient_medications = patients.join(\n",
    "    join_table=medications,\n",
    "    on=\"patientunitstayid\",\n",
    ").run(limit=100)\n",
    "print(f\"{len(patient_medications)} rows extracted!\")"
   ]
  }
 ],
 "metadata": {
  "kernelspec": {
   "display_name": "Python 3 (ipykernel)",
   "language": "python",
   "name": "python3"
  },
  "language_info": {
   "codemirror_mode": {
    "name": "ipython",
    "version": 3
   },
   "file_extension": ".py",
   "mimetype": "text/x-python",
   "name": "python",
   "nbconvert_exporter": "python",
   "pygments_lexer": "ipython3",
   "version": "3.10.14"
  }
 },
 "nbformat": 4,
 "nbformat_minor": 5
}
