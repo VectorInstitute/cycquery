{
 "cells": [
  {
   "cell_type": "markdown",
   "id": "0",
   "metadata": {},
   "source": [
    "# eICU-CRD tutorial"
   ]
  },
  {
   "cell_type": "markdown",
   "id": "1",
   "metadata": {},
   "source": [
    "This notebook shows examples of how to use the cycquery tool on [eicu-CRD](https://eicu-crd.mit.edu/).\n",
    "\n",
    "Each query is limit to 100 rows (for quick results).\n",
    "\n",
    "* First, setup the eICU database according to the instructions in [eicu-code](https://github.com/MIT-LCP/eicu-code/tree/master/build-db/postgres).\n",
    "* The database is assumed to be hosted using postgres. Update the config parameters such as username and password, passed to `EICUQuerier` accordingly."
   ]
  },
  {
   "cell_type": "markdown",
   "id": "2",
   "metadata": {},
   "source": [
    "## Imports and instantiate `EICUQuerier`"
   ]
  },
  {
   "cell_type": "code",
   "execution_count": 1,
   "id": "3",
   "metadata": {
    "execution": {
     "iopub.execute_input": "2025-02-12T00:45:07.176472Z",
     "iopub.status.busy": "2025-02-12T00:45:07.175472Z",
     "iopub.status.idle": "2025-02-12T00:45:10.344457Z",
     "shell.execute_reply": "2025-02-12T00:45:10.342483Z"
    },
    "tags": []
   },
   "outputs": [
    {
     "name": "stderr",
     "output_type": "stream",
     "text": [
      "2025-02-11 19:45:09,690 \u001b[1;37mINFO\u001b[0m cycquery.orm    - Database setup, ready to run queries!\n"
     ]
    },
    {
     "data": {
      "text/plain": [
       "['eicu_crd.admissiondrug',\n",
       " 'eicu_crd.admissiondx',\n",
       " 'eicu_crd.allergy',\n",
       " 'eicu_crd.apacheapsvar',\n",
       " 'eicu_crd.apachepatientresult',\n",
       " 'eicu_crd.apachepredvar',\n",
       " 'eicu_crd.careplancareprovider',\n",
       " 'eicu_crd.careplaneol',\n",
       " 'eicu_crd.careplangeneral',\n",
       " 'eicu_crd.careplangoal',\n",
       " 'eicu_crd.careplaninfectiousdisease',\n",
       " 'eicu_crd.customlab',\n",
       " 'eicu_crd.diagnosis',\n",
       " 'eicu_crd.hospital',\n",
       " 'eicu_crd.infusiondrug',\n",
       " 'eicu_crd.intakeoutput',\n",
       " 'eicu_crd.lab',\n",
       " 'eicu_crd.medication',\n",
       " 'eicu_crd.microlab',\n",
       " 'eicu_crd.note',\n",
       " 'eicu_crd.nurseassessment',\n",
       " 'eicu_crd.nursecare',\n",
       " 'eicu_crd.nursecharting',\n",
       " 'eicu_crd.pasthistory',\n",
       " 'eicu_crd.patient',\n",
       " 'eicu_crd.physicalexam',\n",
       " 'eicu_crd.respiratorycare',\n",
       " 'eicu_crd.respiratorycharting',\n",
       " 'eicu_crd.treatment',\n",
       " 'eicu_crd.vitalaperiodic',\n",
       " 'eicu_crd.vitalperiodic']"
      ]
     },
     "execution_count": 1,
     "metadata": {},
     "output_type": "execute_result"
    }
   ],
   "source": [
    "\"\"\"eICU-CRD tutorial.\"\"\"\n",
    "\n",
    "import cycquery.ops as qo\n",
    "from cycquery import EICUQuerier\n",
    "\n",
    "\n",
    "querier = EICUQuerier(\n",
    "    dbms=\"postgresql\",\n",
    "    port=5432,\n",
    "    host=\"localhost\",\n",
    "    database=\"eicu\",\n",
    "    user=\"postgres\",\n",
    "    password=\"pwd\",\n",
    ")\n",
    "# List all tables.\n",
    "querier.list_tables(\"eicu_crd\")"
   ]
  },
  {
   "cell_type": "markdown",
   "id": "4",
   "metadata": {},
   "source": [
    "## Example 1. Get all female patients discharged in 2014 (limit to 100 rows)."
   ]
  },
  {
   "cell_type": "code",
   "execution_count": 2,
   "id": "5",
   "metadata": {
    "execution": {
     "iopub.execute_input": "2025-02-12T00:45:10.351027Z",
     "iopub.status.busy": "2025-02-12T00:45:10.349730Z",
     "iopub.status.idle": "2025-02-12T00:45:10.456473Z",
     "shell.execute_reply": "2025-02-12T00:45:10.454762Z"
    },
    "tags": []
   },
   "outputs": [
    {
     "name": "stderr",
     "output_type": "stream",
     "text": [
      "2025-02-11 19:45:10,447 \u001b[1;37mINFO\u001b[0m cycquery.orm    - Query returned successfully!\n"
     ]
    },
    {
     "name": "stderr",
     "output_type": "stream",
     "text": [
      "2025-02-11 19:45:10,449 \u001b[1;37mINFO\u001b[0m cycquery.utils.profile - Finished executing function run_query in 0.086936 s\n"
     ]
    },
    {
     "name": "stdout",
     "output_type": "stream",
     "text": [
      "100 rows extracted!\n"
     ]
    }
   ],
   "source": [
    "ops = qo.Sequential(\n",
    "    qo.ConditionEquals(\"hospitaldischargeyear\", 2014),\n",
    "    qo.ConditionEquals(\"gender\", \"Female\"),\n",
    ")\n",
    "patients = querier.eicu_crd.patient()\n",
    "patients = patients.ops(ops).run(limit=100)\n",
    "print(f\"{len(patients)} rows extracted!\")"
   ]
  },
  {
   "cell_type": "markdown",
   "id": "6",
   "metadata": {
    "tags": []
   },
   "source": [
    "## Example 2. Get all patient encounters with diagnoses (`schizophrenia` in `diagnosisstring`), discharged in the year 2015."
   ]
  },
  {
   "cell_type": "code",
   "execution_count": 3,
   "id": "7",
   "metadata": {
    "execution": {
     "iopub.execute_input": "2025-02-12T00:45:10.462602Z",
     "iopub.status.busy": "2025-02-12T00:45:10.461234Z",
     "iopub.status.idle": "2025-02-12T00:45:11.656490Z",
     "shell.execute_reply": "2025-02-12T00:45:11.654729Z"
    },
    "tags": []
   },
   "outputs": [
    {
     "name": "stderr",
     "output_type": "stream",
     "text": [
      "2025-02-11 19:45:11,647 \u001b[1;37mINFO\u001b[0m cycquery.orm    - Query returned successfully!\n"
     ]
    },
    {
     "name": "stderr",
     "output_type": "stream",
     "text": [
      "2025-02-11 19:45:11,649 \u001b[1;37mINFO\u001b[0m cycquery.utils.profile - Finished executing function run_query in 1.171292 s\n"
     ]
    },
    {
     "name": "stdout",
     "output_type": "stream",
     "text": [
      "100 rows extracted!\n"
     ]
    }
   ],
   "source": [
    "patients = querier.eicu_crd.patient()\n",
    "diagnoses = querier.eicu_crd.diagnosis()\n",
    "diagnoses = diagnoses.ops(qo.ConditionSubstring(\"diagnosisstring\", \"schizophrenia\"))\n",
    "patient_diagnoses = patients.join(\n",
    "    join_table=diagnoses,\n",
    "    on=\"patientunitstayid\",\n",
    ")\n",
    "patient_diagnoses = patient_diagnoses.run(limit=100)\n",
    "print(f\"{len(patient_diagnoses)} rows extracted!\")"
   ]
  },
  {
   "cell_type": "markdown",
   "id": "8",
   "metadata": {},
   "source": [
    "## Example 3. Get potassium lab tests for patients discharged in the year 2014, for all teaching hospitals."
   ]
  },
  {
   "cell_type": "code",
   "execution_count": 4,
   "id": "9",
   "metadata": {
    "execution": {
     "iopub.execute_input": "2025-02-12T00:45:11.662394Z",
     "iopub.status.busy": "2025-02-12T00:45:11.661328Z",
     "iopub.status.idle": "2025-02-12T00:45:11.953526Z",
     "shell.execute_reply": "2025-02-12T00:45:11.951516Z"
    },
    "tags": []
   },
   "outputs": [
    {
     "name": "stderr",
     "output_type": "stream",
     "text": [
      "2025-02-11 19:45:11,943 \u001b[1;37mINFO\u001b[0m cycquery.orm    - Query returned successfully!\n"
     ]
    },
    {
     "name": "stderr",
     "output_type": "stream",
     "text": [
      "2025-02-11 19:45:11,945 \u001b[1;37mINFO\u001b[0m cycquery.utils.profile - Finished executing function run_query in 0.253760 s\n"
     ]
    },
    {
     "name": "stdout",
     "output_type": "stream",
     "text": [
      "100 rows extracted!\n"
     ]
    }
   ],
   "source": [
    "hospitals = querier.eicu_crd.hospital()\n",
    "hospitals = hospitals.ops(qo.ConditionEquals(\"teachingstatus\", True))\n",
    "patients = querier.eicu_crd.patient()\n",
    "patients = patients.ops(qo.ConditionEquals(\"hospitaldischargeyear\", 2015))\n",
    "patients = patients.join(\n",
    "    join_table=hospitals,\n",
    "    on=\"hospitalid\",\n",
    ")\n",
    "labs = querier.eicu_crd.lab()\n",
    "labs = labs.ops(qo.ConditionEquals(\"labname\", \"potassium\"))\n",
    "patient_labs = patients.join(\n",
    "    join_table=labs,\n",
    "    on=\"patientunitstayid\",\n",
    ").run(limit=100)\n",
    "print(f\"{len(patient_labs)} rows extracted!\")"
   ]
  },
  {
   "cell_type": "markdown",
   "id": "10",
   "metadata": {},
   "source": [
    "## Example 4. Get glucose medications (substring search) for female patients discharged in 2014."
   ]
  },
  {
   "cell_type": "code",
   "execution_count": 5,
   "id": "11",
   "metadata": {
    "execution": {
     "iopub.execute_input": "2025-02-12T00:45:11.959569Z",
     "iopub.status.busy": "2025-02-12T00:45:11.958462Z",
     "iopub.status.idle": "2025-02-12T00:45:23.245986Z",
     "shell.execute_reply": "2025-02-12T00:45:23.244372Z"
    },
    "tags": []
   },
   "outputs": [
    {
     "name": "stderr",
     "output_type": "stream",
     "text": [
      "2025-02-11 19:45:23,237 \u001b[1;37mINFO\u001b[0m cycquery.orm    - Query returned successfully!\n"
     ]
    },
    {
     "name": "stderr",
     "output_type": "stream",
     "text": [
      "2025-02-11 19:45:23,238 \u001b[1;37mINFO\u001b[0m cycquery.utils.profile - Finished executing function run_query in 11.255242 s\n"
     ]
    },
    {
     "name": "stdout",
     "output_type": "stream",
     "text": [
      "100 rows extracted!\n"
     ]
    }
   ],
   "source": [
    "ops = qo.Sequential(\n",
    "    qo.ConditionEquals(\"hospitaldischargeyear\", 2014),\n",
    "    qo.ConditionEquals(\"gender\", \"Female\"),\n",
    ")\n",
    "patients = querier.eicu_crd.patient()\n",
    "patients = patients.ops(ops)\n",
    "medications = querier.eicu_crd.medication()\n",
    "medications = medications.ops(qo.ConditionSubstring(\"drugname\", \"glucose\"))\n",
    "patient_medications = patients.join(\n",
    "    join_table=medications,\n",
    "    on=\"patientunitstayid\",\n",
    ").run(limit=100)\n",
    "print(f\"{len(patient_medications)} rows extracted!\")"
   ]
  }
 ],
 "metadata": {
  "kernelspec": {
   "display_name": "Python 3 (ipykernel)",
   "language": "python",
   "name": "python3"
  },
  "language_info": {
   "codemirror_mode": {
    "name": "ipython",
    "version": 3
   },
   "file_extension": ".py",
   "mimetype": "text/x-python",
   "name": "python",
   "nbconvert_exporter": "python",
   "pygments_lexer": "ipython3",
   "version": "3.10.16"
  }
 },
 "nbformat": 4,
 "nbformat_minor": 5
}
