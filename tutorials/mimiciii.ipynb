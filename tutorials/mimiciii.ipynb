{
 "cells": [
  {
   "cell_type": "markdown",
   "id": "28288104-b8ce-43fa-a22b-8f02239551a5",
   "metadata": {},
   "source": [
    "# MIMIC-III tutorial"
   ]
  },
  {
   "cell_type": "markdown",
   "id": "74b155b9-9ba6-455c-b987-4c261c339364",
   "metadata": {},
   "source": [
    "This notebook shows examples of how to use the cycquery tool on [MIMIC-III v1.4](https://physionet.org/content/mimiciii/1.4/).\n",
    "\n",
    "Each query is limit to 100 rows (for quick results).\n",
    "\n",
    "* First, setup the MIMIC-III database according to the instructions in [mimic-code](https://github.com/MIT-LCP/mimic-code/tree/main/mimic-iii/buildmimic/postgres).\n",
    "* The database is assumed to be hosted using postgres. Update the config parameters such as username and password, passed to `MIMICIIIQuerier` accordingly."
   ]
  },
  {
   "cell_type": "markdown",
   "id": "0c7c1635-3a70-42d1-99a6-c7f7a9cf9d21",
   "metadata": {},
   "source": [
    "## Imports and instantiate `MIMICIIIQuerier`"
   ]
  },
  {
   "cell_type": "code",
   "execution_count": 1,
   "id": "75a140e0-fb27-4319-862f-be54397abe5c",
   "metadata": {
    "execution": {
     "iopub.execute_input": "2024-06-10T23:01:28.666052Z",
     "iopub.status.busy": "2024-06-10T23:01:28.664652Z",
     "iopub.status.idle": "2024-06-10T23:01:43.945222Z",
     "shell.execute_reply": "2024-06-10T23:01:43.941954Z"
    },
    "tags": []
   },
   "outputs": [
    {
     "name": "stderr",
     "output_type": "stream",
     "text": [
      "2024-06-10 19:01:37,857 \u001b[1;37mINFO\u001b[0m cycquery.orm    - Database setup, ready to run queries!\n"
     ]
    },
    {
     "data": {
      "text/plain": [
       "['chartevents', 'diagnoses', 'labevents']"
      ]
     },
     "execution_count": 1,
     "metadata": {},
     "output_type": "execute_result"
    }
   ],
   "source": [
    "\"\"\"MIMICIII tutorial.\"\"\"\n",
    "\n",
    "import cycquery.ops as qo\n",
    "from cycquery import MIMICIIIQuerier\n",
    "\n",
    "\n",
    "querier = MIMICIIIQuerier(\n",
    "    dbms=\"postgresql\",\n",
    "    port=5432,\n",
    "    host=\"localhost\",\n",
    "    database=\"mimiciii\",\n",
    "    user=\"postgres\",\n",
    "    password=\"pwd\",\n",
    ")\n",
    "# List all custom table methods.\n",
    "querier.list_custom_tables()"
   ]
  },
  {
   "cell_type": "markdown",
   "id": "ea04cc11-e947-4097-91df-729f28b3732c",
   "metadata": {},
   "source": [
    "## Example 1. Get all male patients with a mortality outcome."
   ]
  },
  {
   "cell_type": "code",
   "execution_count": 2,
   "id": "c1efa964-8978-4a0e-9892-5ea4ce9953a3",
   "metadata": {
    "execution": {
     "iopub.execute_input": "2024-06-10T23:01:43.953066Z",
     "iopub.status.busy": "2024-06-10T23:01:43.951828Z",
     "iopub.status.idle": "2024-06-10T23:01:44.275872Z",
     "shell.execute_reply": "2024-06-10T23:01:44.274167Z"
    },
    "tags": []
   },
   "outputs": [
    {
     "name": "stderr",
     "output_type": "stream",
     "text": [
      "2024-06-10 19:01:44,266 \u001b[1;37mINFO\u001b[0m cycquery.orm    - Query returned successfully!\n"
     ]
    },
    {
     "name": "stderr",
     "output_type": "stream",
     "text": [
      "2024-06-10 19:01:44,268 \u001b[1;37mINFO\u001b[0m cycquery.utils.profile - Finished executing function run_query in 0.304998 s\n"
     ]
    },
    {
     "name": "stdout",
     "output_type": "stream",
     "text": [
      "100 rows extracted!\n"
     ]
    }
   ],
   "source": [
    "ops = qo.Sequential(\n",
    "    qo.ConditionEquals(\"expire_flag\", 1),\n",
    "    qo.ConditionEquals(\"gender\", \"M\"),\n",
    ")\n",
    "patients = querier.mimiciii.patients()\n",
    "patients = patients.ops(ops).run(limit=100)\n",
    "print(f\"{len(patients)} rows extracted!\")"
   ]
  },
  {
   "cell_type": "markdown",
   "id": "cd43679b-3d33-4135-b97c-373447289a9c",
   "metadata": {
    "tags": []
   },
   "source": [
    "## Example 2. Get all female patient encounters with diagnoses (`gastroenteritis` in ICD-9 long title)."
   ]
  },
  {
   "cell_type": "code",
   "execution_count": 3,
   "id": "a7ab5fa3-e26b-47a7-818f-1bf367a55760",
   "metadata": {
    "execution": {
     "iopub.execute_input": "2024-06-10T23:01:44.284626Z",
     "iopub.status.busy": "2024-06-10T23:01:44.283609Z",
     "iopub.status.idle": "2024-06-10T23:01:48.708905Z",
     "shell.execute_reply": "2024-06-10T23:01:48.707218Z"
    },
    "tags": []
   },
   "outputs": [
    {
     "name": "stderr",
     "output_type": "stream",
     "text": [
      "2024-06-10 19:01:48,695 \u001b[1;37mINFO\u001b[0m cycquery.orm    - Query returned successfully!\n"
     ]
    },
    {
     "name": "stderr",
     "output_type": "stream",
     "text": [
      "2024-06-10 19:01:48,700 \u001b[1;37mINFO\u001b[0m cycquery.utils.profile - Finished executing function run_query in 4.374799 s\n"
     ]
    },
    {
     "name": "stdout",
     "output_type": "stream",
     "text": [
      "100 rows extracted!\n"
     ]
    }
   ],
   "source": [
    "patients = querier.mimiciii.patients()\n",
    "patients = patients.ops(qo.ConditionEquals(\"gender\", \"F\"))\n",
    "admissions = querier.mimiciii.admissions()\n",
    "patient_admissions = patients.join(\n",
    "    join_table=admissions,\n",
    "    on=\"subject_id\",\n",
    ")\n",
    "diagnoses = querier.diagnoses()\n",
    "diagnoses = diagnoses.ops(qo.ConditionSubstring(\"long_title\", \"gastroenteritis\"))\n",
    "patient_admissions_diagnoses = patient_admissions.join(\n",
    "    join_table=diagnoses,\n",
    "    on=[\"subject_id\", \"hadm_id\"],\n",
    ").run(limit=100)\n",
    "print(f\"{len(patient_admissions_diagnoses)} rows extracted!\")"
   ]
  },
  {
   "cell_type": "markdown",
   "id": "241f7d10-9e04-44ae-b325-87f5a4046df2",
   "metadata": {},
   "source": [
    "## Example 3. Get potassium lab tests for female patients."
   ]
  },
  {
   "cell_type": "code",
   "execution_count": 4,
   "id": "24043abc-1878-4e00-8229-36d4a0368b98",
   "metadata": {
    "execution": {
     "iopub.execute_input": "2024-06-10T23:01:48.716547Z",
     "iopub.status.busy": "2024-06-10T23:01:48.715254Z",
     "iopub.status.idle": "2024-06-10T23:01:49.230200Z",
     "shell.execute_reply": "2024-06-10T23:01:49.228392Z"
    },
    "tags": []
   },
   "outputs": [
    {
     "name": "stderr",
     "output_type": "stream",
     "text": [
      "2024-06-10 19:01:49,220 \u001b[1;37mINFO\u001b[0m cycquery.orm    - Query returned successfully!\n"
     ]
    },
    {
     "name": "stderr",
     "output_type": "stream",
     "text": [
      "2024-06-10 19:01:49,222 \u001b[1;37mINFO\u001b[0m cycquery.utils.profile - Finished executing function run_query in 0.468204 s\n"
     ]
    },
    {
     "name": "stdout",
     "output_type": "stream",
     "text": [
      "100 rows extracted!\n"
     ]
    }
   ],
   "source": [
    "patients = querier.mimiciii.patients()\n",
    "patients = patients.ops(qo.ConditionEquals(\"gender\", \"F\"))\n",
    "labs = querier.labevents()\n",
    "labs = labs.ops(qo.ConditionEquals(\"label\", \"potassium\"))\n",
    "patient_labs = patients.join(labs, on=\"subject_id\").run(limit=100)\n",
    "print(f\"{len(patient_labs)} rows extracted!\")"
   ]
  },
  {
   "cell_type": "markdown",
   "id": "2dbf0fdc-8d99-4fde-ab3e-7c8a67b72f8b",
   "metadata": {},
   "source": [
    "## Example 4. Get AaDO2 carevue chart events for male patients that have a `valuenum` of less than 20."
   ]
  },
  {
   "cell_type": "code",
   "execution_count": 5,
   "id": "f6142f27-e8d1-453c-bfe2-2265d9ff1914",
   "metadata": {
    "execution": {
     "iopub.execute_input": "2024-06-10T23:01:49.238052Z",
     "iopub.status.busy": "2024-06-10T23:01:49.236631Z",
     "iopub.status.idle": "2024-06-10T23:11:57.862640Z",
     "shell.execute_reply": "2024-06-10T23:11:57.860530Z"
    },
    "tags": []
   },
   "outputs": [
    {
     "name": "stderr",
     "output_type": "stream",
     "text": [
      "2024-06-10 19:11:57,786 \u001b[1;37mINFO\u001b[0m cycquery.orm    - Query returned successfully!\n"
     ]
    },
    {
     "name": "stderr",
     "output_type": "stream",
     "text": [
      "2024-06-10 19:11:57,830 \u001b[1;37mINFO\u001b[0m cycquery.utils.profile - Finished executing function run_query in 608.537401 s\n"
     ]
    },
    {
     "name": "stdout",
     "output_type": "stream",
     "text": [
      "6 rows extracted!\n"
     ]
    }
   ],
   "source": [
    "chartevents_ops = qo.Sequential(\n",
    "    qo.ConditionEquals(\"dbsource\", \"carevue\"),\n",
    "    qo.ConditionEquals(\"label\", \"AaDO2\"),\n",
    "    qo.ConditionLessThan(\"valuenum\", 20),\n",
    ")\n",
    "patients = querier.mimiciii.patients()\n",
    "patients = patients.ops(qo.ConditionEquals(\"gender\", \"M\"))\n",
    "chart_events = querier.chartevents()\n",
    "chart_events = chart_events.ops(chartevents_ops)\n",
    "patient_chart_events = patients.join(chart_events, on=\"subject_id\").run(limit=100)\n",
    "print(f\"{len(patient_chart_events)} rows extracted!\")"
   ]
  }
 ],
 "metadata": {
  "kernelspec": {
   "display_name": "Python 3 (ipykernel)",
   "language": "python",
   "name": "python3"
  },
  "language_info": {
   "codemirror_mode": {
    "name": "ipython",
    "version": 3
   },
   "file_extension": ".py",
   "mimetype": "text/x-python",
   "name": "python",
   "nbconvert_exporter": "python",
   "pygments_lexer": "ipython3",
   "version": "3.10.14"
  }
 },
 "nbformat": 4,
 "nbformat_minor": 5
}
