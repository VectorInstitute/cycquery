{
 "cells": [
  {
   "cell_type": "markdown",
   "id": "0",
   "metadata": {},
   "source": [
    "# MIMIC-III tutorial"
   ]
  },
  {
   "cell_type": "markdown",
   "id": "1",
   "metadata": {},
   "source": [
    "This notebook shows examples of how to use the cycquery tool on [MIMIC-III v1.4](https://physionet.org/content/mimiciii/1.4/).\n",
    "\n",
    "Each query is limit to 100 rows (for quick results).\n",
    "\n",
    "* First, setup the MIMIC-III database according to the instructions in [mimic-code](https://github.com/MIT-LCP/mimic-code/tree/main/mimic-iii/buildmimic/postgres).\n",
    "* The database is assumed to be hosted using postgres. Update the config parameters such as username and password, passed to `MIMICIIIQuerier` accordingly."
   ]
  },
  {
   "cell_type": "markdown",
   "id": "2",
   "metadata": {},
   "source": [
    "## Imports and instantiate `MIMICIIIQuerier`"
   ]
  },
  {
   "cell_type": "code",
   "execution_count": 1,
   "id": "3",
   "metadata": {
    "execution": {
     "iopub.execute_input": "2025-01-29T14:49:48.862045Z",
     "iopub.status.busy": "2025-01-29T14:49:48.861200Z",
     "iopub.status.idle": "2025-01-29T14:50:02.087089Z",
     "shell.execute_reply": "2025-01-29T14:50:02.085155Z"
    },
    "tags": []
   },
   "outputs": [
    {
     "name": "stderr",
     "output_type": "stream",
     "text": [
      "2025-01-29 09:49:56,150 \u001b[1;37mINFO\u001b[0m cycquery.orm    - Database setup, ready to run queries!\n"
     ]
    },
    {
     "data": {
      "text/plain": [
       "['chartevents', 'diagnoses', 'labevents']"
      ]
     },
     "execution_count": 1,
     "metadata": {},
     "output_type": "execute_result"
    }
   ],
   "source": [
    "\"\"\"MIMICIII tutorial.\"\"\"\n",
    "\n",
    "import cycquery.ops as qo\n",
    "from cycquery import MIMICIIIQuerier\n",
    "\n",
    "\n",
    "querier = MIMICIIIQuerier(\n",
    "    dbms=\"postgresql\",\n",
    "    port=5432,\n",
    "    host=\"localhost\",\n",
    "    database=\"mimiciii\",\n",
    "    user=\"postgres\",\n",
    "    password=\"pwd\",\n",
    ")\n",
    "# List all custom table methods.\n",
    "querier.list_custom_tables()"
   ]
  },
  {
   "cell_type": "markdown",
   "id": "4",
   "metadata": {},
   "source": [
    "## Example 1. Get all male patients with a mortality outcome."
   ]
  },
  {
   "cell_type": "code",
   "execution_count": 2,
   "id": "5",
   "metadata": {
    "execution": {
     "iopub.execute_input": "2025-01-29T14:50:02.094030Z",
     "iopub.status.busy": "2025-01-29T14:50:02.092635Z",
     "iopub.status.idle": "2025-01-29T14:50:02.154658Z",
     "shell.execute_reply": "2025-01-29T14:50:02.153106Z"
    },
    "tags": []
   },
   "outputs": [
    {
     "name": "stderr",
     "output_type": "stream",
     "text": [
      "2025-01-29 09:50:02,146 \u001b[1;37mINFO\u001b[0m cycquery.orm    - Query returned successfully!\n"
     ]
    },
    {
     "name": "stderr",
     "output_type": "stream",
     "text": [
      "2025-01-29 09:50:02,147 \u001b[1;37mINFO\u001b[0m cycquery.utils.profile - Finished executing function run_query in 0.045226 s\n"
     ]
    },
    {
     "name": "stdout",
     "output_type": "stream",
     "text": [
      "100 rows extracted!\n"
     ]
    }
   ],
   "source": [
    "ops = qo.Sequential(\n",
    "    qo.ConditionEquals(\"expire_flag\", 1),\n",
    "    qo.ConditionEquals(\"gender\", \"M\"),\n",
    ")\n",
    "patients = querier.mimiciii.patients()\n",
    "patients = patients.ops(ops).run(limit=100)\n",
    "print(f\"{len(patients)} rows extracted!\")"
   ]
  },
  {
   "cell_type": "markdown",
   "id": "6",
   "metadata": {
    "tags": []
   },
   "source": [
    "## Example 2. Get all female patient encounters with diagnoses (`gastroenteritis` in ICD-9 long title)."
   ]
  },
  {
   "cell_type": "code",
   "execution_count": 3,
   "id": "7",
   "metadata": {
    "execution": {
     "iopub.execute_input": "2025-01-29T14:50:02.160543Z",
     "iopub.status.busy": "2025-01-29T14:50:02.160012Z",
     "iopub.status.idle": "2025-01-29T14:50:04.105753Z",
     "shell.execute_reply": "2025-01-29T14:50:04.104292Z"
    },
    "tags": []
   },
   "outputs": [
    {
     "name": "stderr",
     "output_type": "stream",
     "text": [
      "2025-01-29 09:50:04,097 \u001b[1;37mINFO\u001b[0m cycquery.orm    - Query returned successfully!\n"
     ]
    },
    {
     "name": "stderr",
     "output_type": "stream",
     "text": [
      "2025-01-29 09:50:04,099 \u001b[1;37mINFO\u001b[0m cycquery.utils.profile - Finished executing function run_query in 0.077570 s\n"
     ]
    },
    {
     "name": "stdout",
     "output_type": "stream",
     "text": [
      "100 rows extracted!\n"
     ]
    }
   ],
   "source": [
    "patients = querier.mimiciii.patients()\n",
    "patients = patients.ops(qo.ConditionEquals(\"gender\", \"F\"))\n",
    "admissions = querier.mimiciii.admissions()\n",
    "patient_admissions = patients.join(\n",
    "    join_table=admissions,\n",
    "    on=\"subject_id\",\n",
    ")\n",
    "diagnoses = querier.diagnoses()\n",
    "diagnoses = diagnoses.ops(qo.ConditionSubstring(\"long_title\", \"gastroenteritis\"))\n",
    "patient_admissions_diagnoses = patient_admissions.join(\n",
    "    join_table=diagnoses,\n",
    "    on=[\"subject_id\", \"hadm_id\"],\n",
    ").run(limit=100)\n",
    "print(f\"{len(patient_admissions_diagnoses)} rows extracted!\")"
   ]
  },
  {
   "cell_type": "markdown",
   "id": "8",
   "metadata": {},
   "source": [
    "## Example 3. Get potassium lab tests for female patients."
   ]
  },
  {
   "cell_type": "code",
   "execution_count": 4,
   "id": "9",
   "metadata": {
    "execution": {
     "iopub.execute_input": "2025-01-29T14:50:04.112314Z",
     "iopub.status.busy": "2025-01-29T14:50:04.111089Z",
     "iopub.status.idle": "2025-01-29T14:50:05.411536Z",
     "shell.execute_reply": "2025-01-29T14:50:05.409941Z"
    },
    "tags": []
   },
   "outputs": [
    {
     "name": "stderr",
     "output_type": "stream",
     "text": [
      "2025-01-29 09:50:05,403 \u001b[1;37mINFO\u001b[0m cycquery.orm    - Query returned successfully!\n"
     ]
    },
    {
     "name": "stderr",
     "output_type": "stream",
     "text": [
      "2025-01-29 09:50:05,404 \u001b[1;37mINFO\u001b[0m cycquery.utils.profile - Finished executing function run_query in 0.060785 s\n"
     ]
    },
    {
     "name": "stdout",
     "output_type": "stream",
     "text": [
      "100 rows extracted!\n"
     ]
    }
   ],
   "source": [
    "patients = querier.mimiciii.patients()\n",
    "patients = patients.ops(qo.ConditionEquals(\"gender\", \"F\"))\n",
    "labs = querier.labevents()\n",
    "labs = labs.ops(qo.ConditionEquals(\"label\", \"potassium\"))\n",
    "patient_labs = patients.join(labs, on=\"subject_id\").run(limit=100)\n",
    "print(f\"{len(patient_labs)} rows extracted!\")"
   ]
  }
 ],
 "metadata": {
  "kernelspec": {
   "display_name": "cycquery",
   "language": "python",
   "name": "cycquery"
  },
  "language_info": {
   "codemirror_mode": {
    "name": "ipython",
    "version": 3
   },
   "file_extension": ".py",
   "mimetype": "text/x-python",
   "name": "python",
   "nbconvert_exporter": "python",
   "pygments_lexer": "ipython3",
   "version": "3.11.8"
  }
 },
 "nbformat": 4,
 "nbformat_minor": 5
}
