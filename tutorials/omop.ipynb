{
 "cells": [
  {
   "cell_type": "markdown",
   "id": "0",
   "metadata": {},
   "source": [
    "# OMOP tutorial"
   ]
  },
  {
   "cell_type": "markdown",
   "id": "1",
   "metadata": {},
   "source": [
    "This notebook shows examples of how to use the cycquery tool to query EHR databases that follow the OMOP common data model. Each query is limit to 100 rows (for quick results).\n",
    "\n",
    "We showcase the examples on:\n",
    "\n",
    "1. [Synthea](https://github.com/synthetichealth/synthea) in OMOP format.\n",
    "\n",
    "    * First, generate synthea data using their releases. We used [v2.7.0](https://github.com/synthetichealth/synthea/releases/tag/v2.7.0) to generate data .\n",
    "    * Follow instructions provided in [ETL-Synthea](https://github.com/OHDSI/ETL-Synthea) to load the CSV data into a postgres database, and perform ETL to load the data into OMOP format."
   ]
  },
  {
   "cell_type": "markdown",
   "id": "2",
   "metadata": {},
   "source": [
    "## Imports and instantiate `OMOPQuerier`."
   ]
  },
  {
   "cell_type": "markdown",
   "id": "3",
   "metadata": {},
   "source": [
    "Pass in the `schema_name` which is the name of the postgres schema which houses all the OMOP tables."
   ]
  },
  {
   "cell_type": "code",
   "execution_count": 1,
   "id": "4",
   "metadata": {
    "execution": {
     "iopub.execute_input": "2025-04-07T19:57:24.338282Z",
     "iopub.status.busy": "2025-04-07T19:57:24.337387Z",
     "iopub.status.idle": "2025-04-07T19:57:28.044964Z",
     "shell.execute_reply": "2025-04-07T19:57:28.043382Z"
    }
   },
   "outputs": [
    {
     "name": "stderr",
     "output_type": "stream",
     "text": [
      "2025-04-07 15:57:26,955 \u001b[1;37mINFO\u001b[0m cycquery.orm    - Database setup, ready to run queries!\n"
     ]
    },
    {
     "data": {
      "text/plain": [
       "['cdm_synthea10.all_visits',\n",
       " 'cdm_synthea10.assign_all_visit_ids',\n",
       " 'cdm_synthea10.care_site',\n",
       " 'cdm_synthea10.cdm_source',\n",
       " 'cdm_synthea10.cohort',\n",
       " 'cdm_synthea10.cohort_definition',\n",
       " 'cdm_synthea10.concept',\n",
       " 'cdm_synthea10.concept_ancestor',\n",
       " 'cdm_synthea10.concept_class',\n",
       " 'cdm_synthea10.concept_relationship',\n",
       " 'cdm_synthea10.concept_synonym',\n",
       " 'cdm_synthea10.condition_era',\n",
       " 'cdm_synthea10.condition_occurrence',\n",
       " 'cdm_synthea10.cost',\n",
       " 'cdm_synthea10.death',\n",
       " 'cdm_synthea10.device_exposure',\n",
       " 'cdm_synthea10.domain',\n",
       " 'cdm_synthea10.dose_era',\n",
       " 'cdm_synthea10.drug_era',\n",
       " 'cdm_synthea10.drug_exposure',\n",
       " 'cdm_synthea10.drug_strength',\n",
       " 'cdm_synthea10.episode',\n",
       " 'cdm_synthea10.episode_event',\n",
       " 'cdm_synthea10.fact_relationship',\n",
       " 'cdm_synthea10.final_visit_ids',\n",
       " 'cdm_synthea10.location',\n",
       " 'cdm_synthea10.measurement',\n",
       " 'cdm_synthea10.metadata',\n",
       " 'cdm_synthea10.note',\n",
       " 'cdm_synthea10.note_nlp',\n",
       " 'cdm_synthea10.observation',\n",
       " 'cdm_synthea10.observation_period',\n",
       " 'cdm_synthea10.payer_plan_period',\n",
       " 'cdm_synthea10.person',\n",
       " 'cdm_synthea10.procedure_occurrence',\n",
       " 'cdm_synthea10.provider',\n",
       " 'cdm_synthea10.relationship',\n",
       " 'cdm_synthea10.source_to_concept_map',\n",
       " 'cdm_synthea10.source_to_source_vocab_map',\n",
       " 'cdm_synthea10.source_to_standard_vocab_map',\n",
       " 'cdm_synthea10.specimen',\n",
       " 'cdm_synthea10.visit_detail',\n",
       " 'cdm_synthea10.visit_occurrence',\n",
       " 'cdm_synthea10.vocabulary']"
      ]
     },
     "execution_count": 1,
     "metadata": {},
     "output_type": "execute_result"
    }
   ],
   "source": [
    "\"\"\"OMOP tutorial.\"\"\"\n",
    "\n",
    "import pandas as pd\n",
    "\n",
    "import cycquery.ops as qo\n",
    "from cycquery import OMOPQuerier\n",
    "\n",
    "\n",
    "querier = OMOPQuerier(\n",
    "    dbms=\"postgresql\",\n",
    "    port=5432,\n",
    "    host=\"localhost\",\n",
    "    database=\"synthea_integration_test\",\n",
    "    user=\"postgres\",\n",
    "    password=\"pwd\",\n",
    "    schema_name=\"cdm_synthea10\",\n",
    ")\n",
    "# List all tables.\n",
    "querier.list_tables(\"cdm_synthea10\")"
   ]
  },
  {
   "cell_type": "markdown",
   "id": "5",
   "metadata": {
    "tags": []
   },
   "source": [
    "## Example 1. Get all patient visits in or after 2010."
   ]
  },
  {
   "cell_type": "code",
   "execution_count": 2,
   "id": "6",
   "metadata": {
    "execution": {
     "iopub.execute_input": "2025-04-07T19:57:28.051260Z",
     "iopub.status.busy": "2025-04-07T19:57:28.049962Z",
     "iopub.status.idle": "2025-04-07T19:57:28.185053Z",
     "shell.execute_reply": "2025-04-07T19:57:28.183623Z"
    }
   },
   "outputs": [
    {
     "name": "stderr",
     "output_type": "stream",
     "text": [
      "2025-04-07 15:57:28,164 \u001b[1;37mINFO\u001b[0m cycquery.orm    - Query returned successfully!\n"
     ]
    },
    {
     "name": "stderr",
     "output_type": "stream",
     "text": [
      "2025-04-07 15:57:28,165 \u001b[1;37mINFO\u001b[0m cycquery.utils.profile - Finished executing function run_query in 0.077423 s\n"
     ]
    },
    {
     "name": "stdout",
     "output_type": "stream",
     "text": [
      "100 rows extracted!\n"
     ]
    },
    {
     "data": {
      "text/plain": [
       "visit_start_date\n",
       "2010     3\n",
       "2011     2\n",
       "2012     2\n",
       "2013     5\n",
       "2014    11\n",
       "2015     6\n",
       "2016    10\n",
       "2017     8\n",
       "2018    15\n",
       "2019    10\n",
       "2020     8\n",
       "2021    10\n",
       "2022     6\n",
       "2023     4\n",
       "Name: count, dtype: int64"
      ]
     },
     "execution_count": 2,
     "metadata": {},
     "output_type": "execute_result"
    }
   ],
   "source": [
    "visits = querier.visit_occurrence()\n",
    "visits = visits.ops(qo.ConditionAfterDate(\"visit_start_date\", \"2010-01-01\"))\n",
    "visits = visits.run(limit=100)\n",
    "print(f\"{len(visits)} rows extracted!\")\n",
    "pd.to_datetime(visits[\"visit_start_date\"]).dt.year.value_counts().sort_index()"
   ]
  },
  {
   "cell_type": "markdown",
   "id": "7",
   "metadata": {},
   "source": [
    "## Example 2. Get measurements for all visits in or after 2020."
   ]
  },
  {
   "cell_type": "code",
   "execution_count": 3,
   "id": "8",
   "metadata": {
    "execution": {
     "iopub.execute_input": "2025-04-07T19:57:28.190908Z",
     "iopub.status.busy": "2025-04-07T19:57:28.189846Z",
     "iopub.status.idle": "2025-04-07T19:57:28.646402Z",
     "shell.execute_reply": "2025-04-07T19:57:28.645034Z"
    }
   },
   "outputs": [
    {
     "name": "stderr",
     "output_type": "stream",
     "text": [
      "2025-04-07 15:57:28,638 \u001b[1;37mINFO\u001b[0m cycquery.orm    - Query returned successfully!\n"
     ]
    },
    {
     "name": "stderr",
     "output_type": "stream",
     "text": [
      "2025-04-07 15:57:28,640 \u001b[1;37mINFO\u001b[0m cycquery.utils.profile - Finished executing function run_query in 0.127612 s\n"
     ]
    },
    {
     "name": "stdout",
     "output_type": "stream",
     "text": [
      "100 rows extracted!\n"
     ]
    }
   ],
   "source": [
    "visits = querier.visit_occurrence()\n",
    "visits = visits.ops(qo.ConditionAfterDate(\"visit_start_date\", \"2020-01-01\"))\n",
    "measurements = querier.measurement()\n",
    "visits_measurements = visits.join(\n",
    "    join_table=measurements,\n",
    "    on=\"visit_occurrence_id\",\n",
    ").run(limit=100)\n",
    "print(f\"{len(visits_measurements)} rows extracted!\")"
   ]
  },
  {
   "cell_type": "markdown",
   "id": "9",
   "metadata": {
    "tags": []
   },
   "source": [
    "2. [MIMIC-III v1.4](https://physionet.org/content/mimiciii/1.4/) in OMOP format.\n",
    "\n",
    "* First, setup the MIMIC-III database according to the instructions in [mimic-code](https://github.com/MIT-LCP/mimic-code/tree/main/mimic-iii/buildmimic/postgres).\n",
    "* Perform the ETL in the [mimic-omop](https://github.com/MIT-LCP/mimic-omop) repo.\n",
    "* The database is assumed to be hosted using postgres. Update the config parameters such as username and password, passed to `MIMICIIIQuerier` accordingly."
   ]
  },
  {
   "cell_type": "markdown",
   "id": "10",
   "metadata": {},
   "source": [
    "## Imports and instantiate `OMOPQuerier`."
   ]
  },
  {
   "cell_type": "markdown",
   "id": "11",
   "metadata": {},
   "source": [
    "Pass in the `schema_name` which is the name of the postgres schema which houses all the OMOP tables."
   ]
  },
  {
   "cell_type": "code",
   "execution_count": 4,
   "id": "12",
   "metadata": {
    "execution": {
     "iopub.execute_input": "2025-04-07T19:57:28.652616Z",
     "iopub.status.busy": "2025-04-07T19:57:28.651494Z",
     "iopub.status.idle": "2025-04-07T19:57:40.550234Z",
     "shell.execute_reply": "2025-04-07T19:57:40.548529Z"
    },
    "tags": []
   },
   "outputs": [
    {
     "name": "stderr",
     "output_type": "stream",
     "text": [
      "2025-04-07 15:57:35,129 \u001b[1;37mINFO\u001b[0m cycquery.orm    - Database setup, ready to run queries!\n"
     ]
    },
    {
     "data": {
      "text/plain": [
       "['information_schema', 'mimiciii', 'omop', 'public']"
      ]
     },
     "execution_count": 4,
     "metadata": {},
     "output_type": "execute_result"
    }
   ],
   "source": [
    "querier = OMOPQuerier(\n",
    "    dbms=\"postgresql\",\n",
    "    port=5432,\n",
    "    host=\"localhost\",\n",
    "    database=\"mimiciii\",\n",
    "    user=\"postgres\",\n",
    "    password=\"pwd\",\n",
    "    schema_name=\"omop\",\n",
    ")\n",
    "# List all schemas.\n",
    "querier.list_schemas()"
   ]
  },
  {
   "cell_type": "markdown",
   "id": "13",
   "metadata": {},
   "source": [
    "## Example 1. Get all patient visits that ended in a mortality outcome in or after 2010."
   ]
  },
  {
   "cell_type": "code",
   "execution_count": 5,
   "id": "14",
   "metadata": {
    "execution": {
     "iopub.execute_input": "2025-04-07T19:57:40.557061Z",
     "iopub.status.busy": "2025-04-07T19:57:40.555681Z",
     "iopub.status.idle": "2025-04-07T19:57:41.349279Z",
     "shell.execute_reply": "2025-04-07T19:57:41.347879Z"
    },
    "tags": []
   },
   "outputs": [
    {
     "name": "stderr",
     "output_type": "stream",
     "text": [
      "2025-04-07 15:57:41,341 \u001b[1;37mINFO\u001b[0m cycquery.orm    - Query returned successfully!\n"
     ]
    },
    {
     "name": "stderr",
     "output_type": "stream",
     "text": [
      "2025-04-07 15:57:41,343 \u001b[1;37mINFO\u001b[0m cycquery.utils.profile - Finished executing function run_query in 0.731698 s\n"
     ]
    },
    {
     "name": "stdout",
     "output_type": "stream",
     "text": [
      "5815 rows extracted!\n"
     ]
    }
   ],
   "source": [
    "visits = querier.visit_occurrence()\n",
    "visits = visits.ops(qo.ConditionAfterDate(\"visit_start_date\", \"2010-01-01\"))\n",
    "visits_concept_mapped = querier.map_concept_ids_to_name(\n",
    "    visits,\n",
    "    [\n",
    "        \"discharge_to_concept_id\",\n",
    "        \"admitting_concept_id\",\n",
    "    ],\n",
    ")\n",
    "visits_concept_mapped_died = visits_concept_mapped.ops(\n",
    "    qo.ConditionSubstring(\"discharge_to_concept_name\", \"died\"),\n",
    ").run()\n",
    "print(f\"{len(visits_concept_mapped_died)} rows extracted!\")"
   ]
  }
 ],
 "metadata": {
  "kernelspec": {
   "display_name": "cycquery",
   "language": "python",
   "name": "cycquery"
  },
  "language_info": {
   "codemirror_mode": {
    "name": "ipython",
    "version": 3
   },
   "file_extension": ".py",
   "mimetype": "text/x-python",
   "name": "python",
   "nbconvert_exporter": "python",
   "pygments_lexer": "ipython3",
   "version": "3.11.8"
  }
 },
 "nbformat": 4,
 "nbformat_minor": 5
}
