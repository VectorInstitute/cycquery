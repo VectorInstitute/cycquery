{
 "cells": [
  {
   "cell_type": "markdown",
   "id": "e337389b-1cfe-4796-a846-b4e1ba5690d6",
   "metadata": {},
   "source": [
    "# OMOP tutorial"
   ]
  },
  {
   "cell_type": "markdown",
   "id": "1efffc64",
   "metadata": {},
   "source": [
    "This notebook shows examples of how to use the cycquery tool to query EHR databases that follow the OMOP common data model. Each query is limit to 100 rows (for quick results).\n",
    "\n",
    "We showcase the examples on:\n",
    "\n",
    "1. [Synthea](https://github.com/synthetichealth/synthea) in OMOP format.\n",
    "\n",
    "    * First, generate synthea data using their releases. We used [v2.7.0](https://github.com/synthetichealth/synthea/releases/tag/v2.7.0) to generate data .\n",
    "    * Follow instructions provided in [ETL-Synthea](https://github.com/OHDSI/ETL-Synthea) to load the CSV data into a postgres database, and perform ETL to load the data into OMOP format."
   ]
  },
  {
   "cell_type": "markdown",
   "id": "12c18656-7f16-4230-85d0-944563d6a13e",
   "metadata": {},
   "source": [
    "## Imports and instantiate `OMOPQuerier`."
   ]
  },
  {
   "cell_type": "markdown",
   "id": "c4cfec2d-af3f-431d-a851-c8853e31df08",
   "metadata": {},
   "source": [
    "Pass in the `schema_name` which is the name of the postgres schema which houses all the OMOP tables."
   ]
  },
  {
   "cell_type": "code",
   "execution_count": 1,
   "id": "53009e6b",
   "metadata": {
    "execution": {
     "iopub.execute_input": "2025-01-17T16:15:44.597064Z",
     "iopub.status.busy": "2025-01-17T16:15:44.596242Z",
     "iopub.status.idle": "2025-01-17T16:15:48.365927Z",
     "shell.execute_reply": "2025-01-17T16:15:48.364459Z"
    }
   },
   "outputs": [
    {
     "name": "stderr",
     "output_type": "stream",
     "text": [
      "2025-01-17 11:15:47,253 \u001b[1;37mINFO\u001b[0m cycquery.orm    - Database setup, ready to run queries!\n"
     ]
    },
    {
     "data": {
      "text/plain": [
       "['cdm_synthea10.all_visits',\n",
       " 'cdm_synthea10.assign_all_visit_ids',\n",
       " 'cdm_synthea10.care_site',\n",
       " 'cdm_synthea10.cdm_source',\n",
       " 'cdm_synthea10.cohort',\n",
       " 'cdm_synthea10.cohort_definition',\n",
       " 'cdm_synthea10.concept',\n",
       " 'cdm_synthea10.concept_ancestor',\n",
       " 'cdm_synthea10.concept_class',\n",
       " 'cdm_synthea10.concept_relationship',\n",
       " 'cdm_synthea10.concept_synonym',\n",
       " 'cdm_synthea10.condition_era',\n",
       " 'cdm_synthea10.condition_occurrence',\n",
       " 'cdm_synthea10.cost',\n",
       " 'cdm_synthea10.death',\n",
       " 'cdm_synthea10.device_exposure',\n",
       " 'cdm_synthea10.domain',\n",
       " 'cdm_synthea10.dose_era',\n",
       " 'cdm_synthea10.drug_era',\n",
       " 'cdm_synthea10.drug_exposure',\n",
       " 'cdm_synthea10.drug_strength',\n",
       " 'cdm_synthea10.episode',\n",
       " 'cdm_synthea10.episode_event',\n",
       " 'cdm_synthea10.fact_relationship',\n",
       " 'cdm_synthea10.final_visit_ids',\n",
       " 'cdm_synthea10.location',\n",
       " 'cdm_synthea10.measurement',\n",
       " 'cdm_synthea10.metadata',\n",
       " 'cdm_synthea10.note',\n",
       " 'cdm_synthea10.note_nlp',\n",
       " 'cdm_synthea10.observation',\n",
       " 'cdm_synthea10.observation_period',\n",
       " 'cdm_synthea10.payer_plan_period',\n",
       " 'cdm_synthea10.person',\n",
       " 'cdm_synthea10.procedure_occurrence',\n",
       " 'cdm_synthea10.provider',\n",
       " 'cdm_synthea10.relationship',\n",
       " 'cdm_synthea10.source_to_concept_map',\n",
       " 'cdm_synthea10.source_to_source_vocab_map',\n",
       " 'cdm_synthea10.source_to_standard_vocab_map',\n",
       " 'cdm_synthea10.specimen',\n",
       " 'cdm_synthea10.visit_detail',\n",
       " 'cdm_synthea10.visit_occurrence',\n",
       " 'cdm_synthea10.vocabulary']"
      ]
     },
     "execution_count": 1,
     "metadata": {},
     "output_type": "execute_result"
    }
   ],
   "source": [
    "\"\"\"OMOP tutorial.\"\"\"\n",
    "\n",
    "import pandas as pd\n",
    "\n",
    "import cycquery.ops as qo\n",
    "from cycquery import OMOPQuerier\n",
    "\n",
    "querier = OMOPQuerier(\n",
    "    dbms=\"postgresql\",\n",
    "    port=5432,\n",
    "    host=\"localhost\",\n",
    "    database=\"synthea_integration_test\",\n",
    "    user=\"postgres\",\n",
    "    password=\"pwd\",\n",
    "    schema_name=\"cdm_synthea10\",\n",
    ")\n",
    "# List all tables.\n",
    "querier.list_tables(\"cdm_synthea10\")"
   ]
  },
  {
   "cell_type": "markdown",
   "id": "7b6214f8",
   "metadata": {
    "tags": []
   },
   "source": [
    "## Example 1. Get all patient visits in or after 2010."
   ]
  },
  {
   "cell_type": "code",
   "execution_count": 2,
   "id": "3a3d9cb9-fe40-45b8-ba2f-8de52a3b7f4f",
   "metadata": {
    "execution": {
     "iopub.execute_input": "2025-01-17T16:15:48.372537Z",
     "iopub.status.busy": "2025-01-17T16:15:48.371117Z",
     "iopub.status.idle": "2025-01-17T16:15:48.509511Z",
     "shell.execute_reply": "2025-01-17T16:15:48.508035Z"
    }
   },
   "outputs": [
    {
     "name": "stderr",
     "output_type": "stream",
     "text": [
      "2025-01-17 11:15:48,488 \u001b[1;37mINFO\u001b[0m cycquery.orm    - Query returned successfully!\n"
     ]
    },
    {
     "name": "stderr",
     "output_type": "stream",
     "text": [
      "2025-01-17 11:15:48,490 \u001b[1;37mINFO\u001b[0m cycquery.utils.profile - Finished executing function run_query in 0.079057 s\n"
     ]
    },
    {
     "name": "stdout",
     "output_type": "stream",
     "text": [
      "100 rows extracted!\n"
     ]
    },
    {
     "data": {
      "text/plain": [
       "visit_start_date\n",
       "2010     3\n",
       "2011     2\n",
       "2012     2\n",
       "2013     5\n",
       "2014    11\n",
       "2015     6\n",
       "2016    10\n",
       "2017     8\n",
       "2018    15\n",
       "2019    10\n",
       "2020     8\n",
       "2021    10\n",
       "2022     6\n",
       "2023     4\n",
       "Name: count, dtype: int64"
      ]
     },
     "execution_count": 2,
     "metadata": {},
     "output_type": "execute_result"
    }
   ],
   "source": [
    "visits = querier.visit_occurrence()\n",
    "visits = visits.ops(qo.ConditionAfterDate(\"visit_start_date\", \"2010-01-01\"))\n",
    "visits = visits.run(limit=100)\n",
    "print(f\"{len(visits)} rows extracted!\")\n",
    "pd.to_datetime(visits[\"visit_start_date\"]).dt.year.value_counts().sort_index()"
   ]
  },
  {
   "cell_type": "markdown",
   "id": "fcaea674-b967-4fbc-a7be-4d8b4492ef56",
   "metadata": {},
   "source": [
    "## Example 2. Get measurements for all visits in or after 2020."
   ]
  },
  {
   "cell_type": "code",
   "execution_count": 3,
   "id": "030e2491-a7cc-42f3-a1ca-618212b3524c",
   "metadata": {
    "execution": {
     "iopub.execute_input": "2025-01-17T16:15:48.515389Z",
     "iopub.status.busy": "2025-01-17T16:15:48.514493Z",
     "iopub.status.idle": "2025-01-17T16:15:49.487120Z",
     "shell.execute_reply": "2025-01-17T16:15:49.485683Z"
    }
   },
   "outputs": [
    {
     "name": "stderr",
     "output_type": "stream",
     "text": [
      "2025-01-17 11:15:49,479 \u001b[1;37mINFO\u001b[0m cycquery.orm    - Query returned successfully!\n"
     ]
    },
    {
     "name": "stderr",
     "output_type": "stream",
     "text": [
      "2025-01-17 11:15:49,480 \u001b[1;37mINFO\u001b[0m cycquery.utils.profile - Finished executing function run_query in 0.130575 s\n"
     ]
    },
    {
     "name": "stdout",
     "output_type": "stream",
     "text": [
      "100 rows extracted!\n"
     ]
    }
   ],
   "source": [
    "visits = querier.visit_occurrence()\n",
    "visits = visits.ops(qo.ConditionAfterDate(\"visit_start_date\", \"2020-01-01\"))\n",
    "measurements = querier.measurement()\n",
    "visits_measurements = visits.join(\n",
    "    join_table=measurements,\n",
    "    on=\"visit_occurrence_id\",\n",
    ").run(limit=100)\n",
    "print(f\"{len(visits_measurements)} rows extracted!\")"
   ]
  },
  {
   "cell_type": "markdown",
   "id": "602273d9-8d78-4e69-8566-7f9d04553d3a",
   "metadata": {
    "tags": []
   },
   "source": [
    "2. [MIMIC-III v1.4](https://physionet.org/content/mimiciii/1.4/) in OMOP format.\n",
    "\n",
    "* First, setup the MIMIC-III database according to the instructions in [mimic-code](https://github.com/MIT-LCP/mimic-code/tree/main/mimic-iii/buildmimic/postgres).\n",
    "* Perform the ETL in the [mimic-omop](https://github.com/MIT-LCP/mimic-omop) repo.\n",
    "* The database is assumed to be hosted using postgres. Update the config parameters such as username and password, passed to `MIMICIIIQuerier` accordingly."
   ]
  },
  {
   "cell_type": "markdown",
   "id": "10da36a2-28e2-4975-83c7-68d0d366e459",
   "metadata": {},
   "source": [
    "## Imports and instantiate `OMOPQuerier`."
   ]
  },
  {
   "cell_type": "markdown",
   "id": "4a050fa9-442b-44dc-b241-86e73516e693",
   "metadata": {},
   "source": [
    "Pass in the `schema_name` which is the name of the postgres schema which houses all the OMOP tables."
   ]
  },
  {
   "cell_type": "code",
   "execution_count": 4,
   "id": "0622b3df-2864-4f32-bd98-806019f59c50",
   "metadata": {
    "execution": {
     "iopub.execute_input": "2025-01-17T16:15:49.493671Z",
     "iopub.status.busy": "2025-01-17T16:15:49.492480Z",
     "iopub.status.idle": "2025-01-17T16:16:01.418418Z",
     "shell.execute_reply": "2025-01-17T16:16:01.416832Z"
    },
    "tags": []
   },
   "outputs": [
    {
     "name": "stderr",
     "output_type": "stream",
     "text": [
      "2025-01-17 11:15:55,796 \u001b[1;37mINFO\u001b[0m cycquery.orm    - Database setup, ready to run queries!\n"
     ]
    },
    {
     "data": {
      "text/plain": [
       "['information_schema', 'mimiciii', 'omop', 'public']"
      ]
     },
     "execution_count": 4,
     "metadata": {},
     "output_type": "execute_result"
    }
   ],
   "source": [
    "querier = OMOPQuerier(\n",
    "    dbms=\"postgresql\",\n",
    "    port=5432,\n",
    "    host=\"localhost\",\n",
    "    database=\"mimiciii\",\n",
    "    user=\"postgres\",\n",
    "    password=\"pwd\",\n",
    "    schema_name=\"omop\",\n",
    ")\n",
    "# List all schemas.\n",
    "querier.list_schemas()"
   ]
  },
  {
   "cell_type": "markdown",
   "id": "c4967160-bd45-4ce0-8b00-27f4f9742c68",
   "metadata": {},
   "source": [
    "## Example 1. Get all patient visits that ended in a mortality outcome in or after 2010."
   ]
  },
  {
   "cell_type": "code",
   "execution_count": 5,
   "id": "40ff2e83-75e4-4119-aa33-26f95e63ddaa",
   "metadata": {
    "execution": {
     "iopub.execute_input": "2025-01-17T16:16:01.424508Z",
     "iopub.status.busy": "2025-01-17T16:16:01.423390Z",
     "iopub.status.idle": "2025-01-17T16:16:02.262080Z",
     "shell.execute_reply": "2025-01-17T16:16:02.260655Z"
    },
    "tags": []
   },
   "outputs": [
    {
     "name": "stderr",
     "output_type": "stream",
     "text": [
      "2025-01-17 11:16:02,254 \u001b[1;37mINFO\u001b[0m cycquery.orm    - Query returned successfully!\n"
     ]
    },
    {
     "name": "stderr",
     "output_type": "stream",
     "text": [
      "2025-01-17 11:16:02,255 \u001b[1;37mINFO\u001b[0m cycquery.utils.profile - Finished executing function run_query in 0.774075 s\n"
     ]
    },
    {
     "name": "stdout",
     "output_type": "stream",
     "text": [
      "5815 rows extracted!\n"
     ]
    }
   ],
   "source": [
    "visits = querier.visit_occurrence()\n",
    "visits = visits.ops(qo.ConditionAfterDate(\"visit_start_date\", \"2010-01-01\"))\n",
    "visits_concept_mapped = querier.map_concept_ids_to_name(\n",
    "    visits,\n",
    "    [\n",
    "        \"discharge_to_concept_id\",\n",
    "        \"admitting_concept_id\",\n",
    "    ],\n",
    ")\n",
    "visits_concept_mapped_died = visits_concept_mapped.ops(\n",
    "    qo.ConditionSubstring(\"discharge_to_concept_name\", \"died\"),\n",
    ").run()\n",
    "print(f\"{len(visits_concept_mapped_died)} rows extracted!\")"
   ]
  }
 ],
 "metadata": {
  "kernelspec": {
   "display_name": "cycquery",
   "language": "python",
   "name": "cycquery"
  },
  "language_info": {
   "codemirror_mode": {
    "name": "ipython",
    "version": 3
   },
   "file_extension": ".py",
   "mimetype": "text/x-python",
   "name": "python",
   "nbconvert_exporter": "python",
   "pygments_lexer": "ipython3",
   "version": "3.11.8"
  }
 },
 "nbformat": 4,
 "nbformat_minor": 5
}
