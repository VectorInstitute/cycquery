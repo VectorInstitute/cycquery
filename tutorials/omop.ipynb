{
 "cells": [
  {
   "cell_type": "markdown",
   "id": "e337389b-1cfe-4796-a846-b4e1ba5690d6",
   "metadata": {},
   "source": [
    "# OMOP tutorial"
   ]
  },
  {
   "cell_type": "markdown",
   "id": "1efffc64",
   "metadata": {},
   "source": [
    "This notebook shows examples of how to use the cycquery tool to query EHR databases that follow the OMOP common data model. Each query is limit to 100 rows (for quick results).\n",
    "\n",
    "We showcase the examples on:\n",
    "\n",
    "1. [Synthea](https://github.com/synthetichealth/synthea) in OMOP format.\n",
    "\n",
    "    * First, generate synthea data using their releases. We used [v2.7.0](https://github.com/synthetichealth/synthea/releases/tag/v2.7.0) to generate data .\n",
    "    * Follow instructions provided in [ETL-Synthea](https://github.com/OHDSI/ETL-Synthea) to load the CSV data into a postgres database, and perform ETL to load the data into OMOP format."
   ]
  },
  {
   "cell_type": "markdown",
   "id": "12c18656-7f16-4230-85d0-944563d6a13e",
   "metadata": {},
   "source": [
    "## Imports and instantiate `OMOPQuerier`."
   ]
  },
  {
   "cell_type": "markdown",
   "id": "c4cfec2d-af3f-431d-a851-c8853e31df08",
   "metadata": {},
   "source": [
    "Pass in the `schema_name` which is the name of the postgres schema which houses all the OMOP tables."
   ]
  },
  {
   "cell_type": "code",
   "execution_count": 1,
   "id": "53009e6b",
   "metadata": {
    "execution": {
     "iopub.execute_input": "2024-04-18T15:40:38.676848Z",
     "iopub.status.busy": "2024-04-18T15:40:38.675913Z",
     "iopub.status.idle": "2024-04-18T15:40:42.356896Z",
     "shell.execute_reply": "2024-04-18T15:40:42.355236Z"
    }
   },
   "outputs": [
    {
     "name": "stderr",
     "output_type": "stream",
     "text": [
      "2024-04-18 11:40:41,216 \u001b[1;37mINFO\u001b[0m cycquery.orm    - Database setup, ready to run queries!\n"
     ]
    },
    {
     "data": {
      "text/plain": [
       "['cdm_synthea10.all_visits',\n",
       " 'cdm_synthea10.assign_all_visit_ids',\n",
       " 'cdm_synthea10.care_site',\n",
       " 'cdm_synthea10.cdm_source',\n",
       " 'cdm_synthea10.cohort',\n",
       " 'cdm_synthea10.cohort_definition',\n",
       " 'cdm_synthea10.concept',\n",
       " 'cdm_synthea10.concept_ancestor',\n",
       " 'cdm_synthea10.concept_class',\n",
       " 'cdm_synthea10.concept_relationship',\n",
       " 'cdm_synthea10.concept_synonym',\n",
       " 'cdm_synthea10.condition_era',\n",
       " 'cdm_synthea10.condition_occurrence',\n",
       " 'cdm_synthea10.cost',\n",
       " 'cdm_synthea10.death',\n",
       " 'cdm_synthea10.device_exposure',\n",
       " 'cdm_synthea10.domain',\n",
       " 'cdm_synthea10.dose_era',\n",
       " 'cdm_synthea10.drug_era',\n",
       " 'cdm_synthea10.drug_exposure',\n",
       " 'cdm_synthea10.drug_strength',\n",
       " 'cdm_synthea10.episode',\n",
       " 'cdm_synthea10.episode_event',\n",
       " 'cdm_synthea10.fact_relationship',\n",
       " 'cdm_synthea10.final_visit_ids',\n",
       " 'cdm_synthea10.location',\n",
       " 'cdm_synthea10.measurement',\n",
       " 'cdm_synthea10.metadata',\n",
       " 'cdm_synthea10.note',\n",
       " 'cdm_synthea10.note_nlp',\n",
       " 'cdm_synthea10.observation',\n",
       " 'cdm_synthea10.observation_period',\n",
       " 'cdm_synthea10.payer_plan_period',\n",
       " 'cdm_synthea10.person',\n",
       " 'cdm_synthea10.procedure_occurrence',\n",
       " 'cdm_synthea10.provider',\n",
       " 'cdm_synthea10.relationship',\n",
       " 'cdm_synthea10.source_to_concept_map',\n",
       " 'cdm_synthea10.source_to_source_vocab_map',\n",
       " 'cdm_synthea10.source_to_standard_vocab_map',\n",
       " 'cdm_synthea10.specimen',\n",
       " 'cdm_synthea10.visit_detail',\n",
       " 'cdm_synthea10.visit_occurrence',\n",
       " 'cdm_synthea10.vocabulary']"
      ]
     },
     "execution_count": 1,
     "metadata": {},
     "output_type": "execute_result"
    }
   ],
   "source": [
    "\"\"\"OMOP tutorial.\"\"\"\n",
    "\n",
    "import pandas as pd\n",
    "\n",
    "import cycquery.ops as qo\n",
    "from cycquery import OMOPQuerier\n",
    "\n",
    "\n",
    "querier = OMOPQuerier(\n",
    "    dbms=\"postgresql\",\n",
    "    port=5432,\n",
    "    host=\"localhost\",\n",
    "    database=\"synthea_integration_test\",\n",
    "    user=\"postgres\",\n",
    "    password=\"pwd\",\n",
    "    schema_name=\"cdm_synthea10\",\n",
    ")\n",
    "# List all tables.\n",
    "querier.list_tables(\"cdm_synthea10\")"
   ]
  },
  {
   "cell_type": "markdown",
   "id": "7b6214f8",
   "metadata": {
    "tags": []
   },
   "source": [
    "## Example 1. Get all patient visits in or after 2010."
   ]
  },
  {
   "cell_type": "code",
   "execution_count": 2,
   "id": "3a3d9cb9-fe40-45b8-ba2f-8de52a3b7f4f",
   "metadata": {
    "execution": {
     "iopub.execute_input": "2024-04-18T15:40:42.368537Z",
     "iopub.status.busy": "2024-04-18T15:40:42.367042Z",
     "iopub.status.idle": "2024-04-18T15:40:42.837841Z",
     "shell.execute_reply": "2024-04-18T15:40:42.836234Z"
    }
   },
   "outputs": [
    {
     "name": "stderr",
     "output_type": "stream",
     "text": [
      "2024-04-18 11:40:42,751 \u001b[1;37mINFO\u001b[0m cycquery.orm    - Query returned successfully!\n"
     ]
    },
    {
     "name": "stderr",
     "output_type": "stream",
     "text": [
      "2024-04-18 11:40:42,753 \u001b[1;37mINFO\u001b[0m cycquery.utils.profile - Finished executing function run_query in 0.343278 s\n"
     ]
    },
    {
     "name": "stdout",
     "output_type": "stream",
     "text": [
      "100 rows extracted!\n"
     ]
    },
    {
     "data": {
      "text/plain": [
       "visit_start_date\n",
       "2010     3\n",
       "2011     2\n",
       "2012     2\n",
       "2013     5\n",
       "2014    11\n",
       "2015     6\n",
       "2016    10\n",
       "2017     8\n",
       "2018    15\n",
       "2019    10\n",
       "2020     8\n",
       "2021    10\n",
       "2022     6\n",
       "2023     4\n",
       "Name: count, dtype: int64"
      ]
     },
     "execution_count": 2,
     "metadata": {},
     "output_type": "execute_result"
    }
   ],
   "source": [
    "visits = querier.visit_occurrence()\n",
    "visits = visits.ops(qo.ConditionAfterDate(\"visit_start_date\", \"2010-01-01\"))\n",
    "visits = visits.run(limit=100)\n",
    "print(f\"{len(visits)} rows extracted!\")\n",
    "pd.to_datetime(visits[\"visit_start_date\"]).dt.year.value_counts().sort_index()"
   ]
  },
  {
   "cell_type": "markdown",
   "id": "fcaea674-b967-4fbc-a7be-4d8b4492ef56",
   "metadata": {},
   "source": [
    "## Example 2. Get measurements for all visits in or after 2020."
   ]
  },
  {
   "cell_type": "code",
   "execution_count": 3,
   "id": "030e2491-a7cc-42f3-a1ca-618212b3524c",
   "metadata": {
    "execution": {
     "iopub.execute_input": "2024-04-18T15:40:42.844948Z",
     "iopub.status.busy": "2024-04-18T15:40:42.843651Z",
     "iopub.status.idle": "2024-04-18T15:40:43.534242Z",
     "shell.execute_reply": "2024-04-18T15:40:43.532632Z"
    }
   },
   "outputs": [
    {
     "name": "stderr",
     "output_type": "stream",
     "text": [
      "2024-04-18 11:40:43,525 \u001b[1;37mINFO\u001b[0m cycquery.orm    - Query returned successfully!\n"
     ]
    },
    {
     "name": "stderr",
     "output_type": "stream",
     "text": [
      "2024-04-18 11:40:43,527 \u001b[1;37mINFO\u001b[0m cycquery.utils.profile - Finished executing function run_query in 0.585587 s\n"
     ]
    },
    {
     "name": "stdout",
     "output_type": "stream",
     "text": [
      "100 rows extracted!\n"
     ]
    }
   ],
   "source": [
    "visits = querier.visit_occurrence()\n",
    "visits = visits.ops(qo.ConditionAfterDate(\"visit_start_date\", \"2020-01-01\"))\n",
    "measurements = querier.measurement()\n",
    "visits_measurements = visits.join(\n",
    "    join_table=measurements,\n",
    "    on=\"visit_occurrence_id\",\n",
    ").run(limit=100)\n",
    "print(f\"{len(visits_measurements)} rows extracted!\")"
   ]
  },
  {
   "cell_type": "markdown",
   "id": "602273d9-8d78-4e69-8566-7f9d04553d3a",
   "metadata": {
    "tags": []
   },
   "source": [
    "2. [MIMIC-III v1.4](https://physionet.org/content/mimiciii/1.4/) in OMOP format.\n",
    "\n",
    "* First, setup the MIMIC-III database according to the instructions in [mimic-code](https://github.com/MIT-LCP/mimic-code/tree/main/mimic-iii/buildmimic/postgres).\n",
    "* Perform the ETL in the [mimic-omop](https://github.com/MIT-LCP/mimic-omop) repo.\n",
    "* The database is assumed to be hosted using postgres. Update the config parameters such as username and password, passed to `MIMICIIIQuerier` accordingly."
   ]
  },
  {
   "cell_type": "markdown",
   "id": "10da36a2-28e2-4975-83c7-68d0d366e459",
   "metadata": {},
   "source": [
    "## Imports and instantiate `OMOPQuerier`."
   ]
  },
  {
   "cell_type": "markdown",
   "id": "4a050fa9-442b-44dc-b241-86e73516e693",
   "metadata": {},
   "source": [
    "Pass in the `schema_name` which is the name of the postgres schema which houses all the OMOP tables."
   ]
  },
  {
   "cell_type": "code",
   "execution_count": 4,
   "id": "0622b3df-2864-4f32-bd98-806019f59c50",
   "metadata": {
    "execution": {
     "iopub.execute_input": "2024-04-18T15:40:43.541576Z",
     "iopub.status.busy": "2024-04-18T15:40:43.540295Z",
     "iopub.status.idle": "2024-04-18T15:40:55.479748Z",
     "shell.execute_reply": "2024-04-18T15:40:55.478050Z"
    },
    "tags": []
   },
   "outputs": [
    {
     "name": "stderr",
     "output_type": "stream",
     "text": [
      "2024-04-18 11:40:49,583 \u001b[1;37mINFO\u001b[0m cycquery.orm    - Database setup, ready to run queries!\n"
     ]
    },
    {
     "data": {
      "text/plain": [
       "['information_schema', 'mimiciii', 'omop', 'public']"
      ]
     },
     "execution_count": 4,
     "metadata": {},
     "output_type": "execute_result"
    }
   ],
   "source": [
    "querier = OMOPQuerier(\n",
    "    dbms=\"postgresql\",\n",
    "    port=5432,\n",
    "    host=\"localhost\",\n",
    "    database=\"mimiciii\",\n",
    "    user=\"postgres\",\n",
    "    password=\"pwd\",\n",
    "    schema_name=\"omop\",\n",
    ")\n",
    "# List all schemas.\n",
    "querier.list_schemas()"
   ]
  },
  {
   "cell_type": "markdown",
   "id": "c4967160-bd45-4ce0-8b00-27f4f9742c68",
   "metadata": {},
   "source": [
    "## Example 1. Get all patient visits that ended in a mortality outcome in or after 2010."
   ]
  },
  {
   "cell_type": "code",
   "execution_count": 5,
   "id": "40ff2e83-75e4-4119-aa33-26f95e63ddaa",
   "metadata": {
    "execution": {
     "iopub.execute_input": "2024-04-18T15:40:55.486755Z",
     "iopub.status.busy": "2024-04-18T15:40:55.485756Z",
     "iopub.status.idle": "2024-04-18T15:40:56.224438Z",
     "shell.execute_reply": "2024-04-18T15:40:56.222814Z"
    },
    "tags": []
   },
   "outputs": [
    {
     "name": "stderr",
     "output_type": "stream",
     "text": [
      "2024-04-18 11:40:56,215 \u001b[1;37mINFO\u001b[0m cycquery.orm    - Query returned successfully!\n"
     ]
    },
    {
     "name": "stderr",
     "output_type": "stream",
     "text": [
      "2024-04-18 11:40:56,217 \u001b[1;37mINFO\u001b[0m cycquery.utils.profile - Finished executing function run_query in 0.668646 s\n"
     ]
    },
    {
     "name": "stdout",
     "output_type": "stream",
     "text": [
      "5815 rows extracted!\n"
     ]
    }
   ],
   "source": [
    "visits = querier.visit_occurrence()\n",
    "visits = visits.ops(qo.ConditionAfterDate(\"visit_start_date\", \"2010-01-01\"))\n",
    "visits_concept_mapped = querier.map_concept_ids_to_name(\n",
    "    visits,\n",
    "    [\n",
    "        \"discharge_to_concept_id\",\n",
    "        \"admitting_concept_id\",\n",
    "    ],\n",
    ")\n",
    "visits_concept_mapped_died = visits_concept_mapped.ops(\n",
    "    qo.ConditionSubstring(\"discharge_to_concept_name\", \"died\"),\n",
    ").run()\n",
    "print(f\"{len(visits_concept_mapped_died)} rows extracted!\")"
   ]
  },
  {
   "cell_type": "markdown",
   "id": "996ad6ff-8213-43ea-b701-e52a1d0b01bf",
   "metadata": {
    "tags": []
   },
   "source": [
    "## Example 2. Get all measurements for female patient visits with `sepsis` diagnoses, that ended in a mortality outcome."
   ]
  },
  {
   "cell_type": "code",
   "execution_count": 6,
   "id": "46fd771c-5da7-4bce-aec7-08a5210a069b",
   "metadata": {
    "execution": {
     "iopub.execute_input": "2024-04-18T15:40:56.231225Z",
     "iopub.status.busy": "2024-04-18T15:40:56.230251Z",
     "iopub.status.idle": "2024-04-18T15:44:19.571701Z",
     "shell.execute_reply": "2024-04-18T15:44:19.569921Z"
    },
    "tags": []
   },
   "outputs": [
    {
     "name": "stderr",
     "output_type": "stream",
     "text": [
      "2024-04-18 11:44:19,561 \u001b[1;37mINFO\u001b[0m cycquery.orm    - Query returned successfully!\n"
     ]
    },
    {
     "name": "stderr",
     "output_type": "stream",
     "text": [
      "2024-04-18 11:44:19,563 \u001b[1;37mINFO\u001b[0m cycquery.utils.profile - Finished executing function run_query in 203.103100 s\n"
     ]
    },
    {
     "name": "stdout",
     "output_type": "stream",
     "text": [
      "100 rows extracted!\n"
     ]
    }
   ],
   "source": [
    "persons = querier.person()\n",
    "persons = persons.ops(qo.ConditionSubstring(\"gender_concept_name\", \"FEMALE\"))\n",
    "visits = querier.visit_occurrence()\n",
    "person_visits = persons.join(visits, on=\"person_id\")\n",
    "conditions = querier.omop.condition_occurrence()\n",
    "person_visits_conditions = person_visits.join(\n",
    "    conditions,\n",
    "    on=\"visit_occurrence_id\",\n",
    "    isouter=True,\n",
    ")\n",
    "measurement = querier.measurement()\n",
    "person_visits_conditions_measurements = person_visits_conditions.join(\n",
    "    measurement,\n",
    "    on=\"visit_occurrence_id\",\n",
    "    isouter=True,\n",
    ")\n",
    "person_visits_conditions_measurements = querier.map_concept_ids_to_name(\n",
    "    person_visits_conditions_measurements,\n",
    "    [\n",
    "        \"discharge_to_concept_id\",\n",
    "        \"admitting_concept_id\",\n",
    "        \"condition_concept_id\",\n",
    "    ],\n",
    ")\n",
    "ops = qo.Sequential(\n",
    "    qo.ConditionSubstring(\"discharge_to_concept_name\", \"died\"),\n",
    "    qo.ConditionSubstring(\"condition_concept_name\", \"sepsis\"),\n",
    ")\n",
    "cohort = person_visits_conditions_measurements.ops(ops).run(limit=100)\n",
    "print(f\"{len(cohort)} rows extracted!\")"
   ]
  },
  {
   "cell_type": "code",
   "execution_count": 7,
   "id": "d20a2581-f613-4ab8-9feb-3e84b8835db1",
   "metadata": {
    "execution": {
     "iopub.execute_input": "2024-04-18T15:44:19.578967Z",
     "iopub.status.busy": "2024-04-18T15:44:19.578212Z",
     "iopub.status.idle": "2024-04-18T15:44:19.737797Z",
     "shell.execute_reply": "2024-04-18T15:44:19.736052Z"
    },
    "tags": []
   },
   "outputs": [
    {
     "data": {
      "text/plain": [
       "measurement_concept_name\n",
       "Body weight            51\n",
       "No matching concept    49\n",
       "Name: count, dtype: int64[pyarrow]"
      ]
     },
     "execution_count": 7,
     "metadata": {},
     "output_type": "execute_result"
    }
   ],
   "source": [
    "cohort[\"measurement_concept_name\"].value_counts()"
   ]
  }
 ],
 "metadata": {
  "kernelspec": {
   "display_name": "Python 3 (ipykernel)",
   "language": "python",
   "name": "python3"
  },
  "language_info": {
   "codemirror_mode": {
    "name": "ipython",
    "version": 3
   },
   "file_extension": ".py",
   "mimetype": "text/x-python",
   "name": "python",
   "nbconvert_exporter": "python",
   "pygments_lexer": "ipython3",
   "version": "3.10.14"
  }
 },
 "nbformat": 4,
 "nbformat_minor": 5
}
